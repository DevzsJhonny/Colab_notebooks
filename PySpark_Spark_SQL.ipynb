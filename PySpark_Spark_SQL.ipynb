{
  "nbformat": 4,
  "nbformat_minor": 0,
  "metadata": {
    "colab": {
      "provenance": [],
      "authorship_tag": "ABX9TyNJi+D7/BC7rcUAuZ+n5a9Q",
      "include_colab_link": true
    },
    "kernelspec": {
      "name": "python3",
      "display_name": "Python 3"
    },
    "language_info": {
      "name": "python"
    }
  },
  "cells": [
    {
      "cell_type": "markdown",
      "metadata": {
        "id": "view-in-github",
        "colab_type": "text"
      },
      "source": [
        "<a href=\"https://colab.research.google.com/github/DevzsJhonny/Colab_notebooks/blob/main/PySpark_Spark_SQL.ipynb\" target=\"_parent\"><img src=\"https://colab.research.google.com/assets/colab-badge.svg\" alt=\"Open In Colab\"/></a>"
      ]
    },
    {
      "cell_type": "code",
      "execution_count": 24,
      "metadata": {
        "colab": {
          "base_uri": "https://localhost:8080/"
        },
        "id": "WZjMDwboLs8I",
        "outputId": "fa73b84c-7b9b-46c2-fab5-4b50d7807d8d"
      },
      "outputs": [
        {
          "output_type": "stream",
          "name": "stdout",
          "text": [
            "Requirement already satisfied: pyspark in /usr/local/lib/python3.10/dist-packages (3.5.1)\n",
            "Requirement already satisfied: py4j==0.10.9.7 in /usr/local/lib/python3.10/dist-packages (from pyspark) (0.10.9.7)\n"
          ]
        }
      ],
      "source": [
        "!pip install pyspark"
      ]
    },
    {
      "cell_type": "code",
      "source": [
        "import pyspark\n",
        "from pyspark.sql import SparkSession\n",
        "spark=SparkSession.builder.master(\"local[*]\").getOrCreate()"
      ],
      "metadata": {
        "id": "Phatgsa2L9iY"
      },
      "execution_count": 25,
      "outputs": []
    },
    {
      "cell_type": "markdown",
      "source": [
        "# Spark SQL - Consultas e Seleções\n"
      ],
      "metadata": {
        "id": "rzr0QXgTMRKU"
      }
    },
    {
      "cell_type": "code",
      "source": [
        "df = spark.sql('''select 'OK' as Status''')\n",
        "df.show()"
      ],
      "metadata": {
        "colab": {
          "base_uri": "https://localhost:8080/"
        },
        "id": "2MRP2PkfMSZ8",
        "outputId": "3a6fdf8f-fcce-4035-b3fe-6d4fe6b4f190"
      },
      "execution_count": 26,
      "outputs": [
        {
          "output_type": "stream",
          "name": "stdout",
          "text": [
            "+------+\n",
            "|Status|\n",
            "+------+\n",
            "|    OK|\n",
            "+------+\n",
            "\n"
          ]
        }
      ]
    },
    {
      "cell_type": "markdown",
      "source": [
        "# Importando Dados"
      ],
      "metadata": {
        "id": "rWs5u76TMp88"
      }
    },
    {
      "cell_type": "code",
      "source": [
        "df = spark.read.csv('cereal.csv', sep = ',', inferSchema=True, header = True)\n",
        "df.show()"
      ],
      "metadata": {
        "colab": {
          "base_uri": "https://localhost:8080/"
        },
        "id": "11YM8WO0Ms5r",
        "outputId": "1911b332-4ceb-4e9a-8198-32ea2f9d11a3"
      },
      "execution_count": 27,
      "outputs": [
        {
          "output_type": "stream",
          "name": "stdout",
          "text": [
            "+--------------------+---+----+--------+-------+---+------+-----+-----+------+------+--------+-----+------+----+---------+\n",
            "|                name|mfr|type|calories|protein|fat|sodium|fiber|carbo|sugars|potass|vitamins|shelf|weight|cups|   rating|\n",
            "+--------------------+---+----+--------+-------+---+------+-----+-----+------+------+--------+-----+------+----+---------+\n",
            "|           100% Bran|  N|   C|      70|      4|  1|   130| 10.0|  5.0|     6|   280|      25|    3|   1.0|0.33|68.402973|\n",
            "|   100% Natural Bran|  Q|   C|     120|      3|  5|    15|  2.0|  8.0|     8|   135|       0|    3|   1.0| 1.0|33.983679|\n",
            "|            All-Bran|  K|   C|      70|      4|  1|   260|  9.0|  7.0|     5|   320|      25|    3|   1.0|0.33|59.425505|\n",
            "|All-Bran with Ext...|  K|   C|      50|      4|  0|   140| 14.0|  8.0|     0|   330|      25|    3|   1.0| 0.5|93.704912|\n",
            "|      Almond Delight|  R|   C|     110|      2|  2|   200|  1.0| 14.0|     8|    -1|      25|    3|   1.0|0.75|34.384843|\n",
            "|Apple Cinnamon Ch...|  G|   C|     110|      2|  2|   180|  1.5| 10.5|    10|    70|      25|    1|   1.0|0.75|29.509541|\n",
            "|         Apple Jacks|  K|   C|     110|      2|  0|   125|  1.0| 11.0|    14|    30|      25|    2|   1.0| 1.0|33.174094|\n",
            "|             Basic 4|  G|   C|     130|      3|  2|   210|  2.0| 18.0|     8|   100|      25|    3|  1.33|0.75|37.038562|\n",
            "|           Bran Chex|  R|   C|      90|      2|  1|   200|  4.0| 15.0|     6|   125|      25|    1|   1.0|0.67|49.120253|\n",
            "|         Bran Flakes|  P|   C|      90|      3|  0|   210|  5.0| 13.0|     5|   190|      25|    3|   1.0|0.67|53.313813|\n",
            "|        Cap'n'Crunch|  Q|   C|     120|      1|  2|   220|  0.0| 12.0|    12|    35|      25|    2|   1.0|0.75|18.042851|\n",
            "|            Cheerios|  G|   C|     110|      6|  2|   290|  2.0| 17.0|     1|   105|      25|    1|   1.0|1.25|50.764999|\n",
            "|Cinnamon Toast Cr...|  G|   C|     120|      1|  3|   210|  0.0| 13.0|     9|    45|      25|    2|   1.0|0.75|19.823573|\n",
            "|            Clusters|  G|   C|     110|      3|  2|   140|  2.0| 13.0|     7|   105|      25|    3|   1.0| 0.5|40.400208|\n",
            "|         Cocoa Puffs|  G|   C|     110|      1|  1|   180|  0.0| 12.0|    13|    55|      25|    2|   1.0| 1.0|22.736446|\n",
            "|           Corn Chex|  R|   C|     110|      2|  0|   280|  0.0| 22.0|     3|    25|      25|    1|   1.0| 1.0|41.445019|\n",
            "|         Corn Flakes|  K|   C|     100|      2|  0|   290|  1.0| 21.0|     2|    35|      25|    1|   1.0| 1.0|45.863324|\n",
            "|           Corn Pops|  K|   C|     110|      1|  0|    90|  1.0| 13.0|    12|    20|      25|    2|   1.0| 1.0|35.782791|\n",
            "|       Count Chocula|  G|   C|     110|      1|  1|   180|  0.0| 12.0|    13|    65|      25|    2|   1.0| 1.0|22.396513|\n",
            "|  Cracklin' Oat Bran|  K|   C|     110|      3|  3|   140|  4.0| 10.0|     7|   160|      25|    3|   1.0| 0.5|40.448772|\n",
            "+--------------------+---+----+--------+-------+---+------+-----+-----+------+------+--------+-----+------+----+---------+\n",
            "only showing top 20 rows\n",
            "\n"
          ]
        }
      ]
    },
    {
      "cell_type": "code",
      "source": [
        "df.count()"
      ],
      "metadata": {
        "colab": {
          "base_uri": "https://localhost:8080/"
        },
        "id": "c9lER8EjM7GL",
        "outputId": "9250f17e-f792-4d1b-8dbe-b9e3e506a485"
      },
      "execution_count": 28,
      "outputs": [
        {
          "output_type": "execute_result",
          "data": {
            "text/plain": [
              "77"
            ]
          },
          "metadata": {},
          "execution_count": 28
        }
      ]
    },
    {
      "cell_type": "markdown",
      "source": [
        "# Manipulando Dados com Spark SQL"
      ],
      "metadata": {
        "id": "7s32JZg3M9ZU"
      }
    },
    {
      "cell_type": "code",
      "source": [
        "df.createOrReplaceTempView(\"cereal\") # cria uma tabela temporia dentro da Sessão, afim de manipular os dados"
      ],
      "metadata": {
        "id": "d65eGfZeNAfa"
      },
      "execution_count": 29,
      "outputs": []
    },
    {
      "cell_type": "code",
      "source": [
        "cereal = spark.sql('''SELECT COUNT(*) AS total FROM cereal WHERE mfr = 'G' ''')\n",
        "cereal.show()"
      ],
      "metadata": {
        "colab": {
          "base_uri": "https://localhost:8080/"
        },
        "id": "J9TT0l8rND_v",
        "outputId": "78744c12-4013-41e3-a191-7894ae8ce6c3"
      },
      "execution_count": 30,
      "outputs": [
        {
          "output_type": "stream",
          "name": "stdout",
          "text": [
            "+-----+\n",
            "|total|\n",
            "+-----+\n",
            "|   22|\n",
            "+-----+\n",
            "\n"
          ]
        }
      ]
    },
    {
      "cell_type": "code",
      "source": [
        "cereal = spark.sql('''SELECT * FROM cereal WHERE mfr = 'G' ''')\n",
        "cereal.show()"
      ],
      "metadata": {
        "colab": {
          "base_uri": "https://localhost:8080/"
        },
        "id": "ilc8Qr13PJTz",
        "outputId": "4d18c64a-a692-44da-c2ae-f5934967b7b4"
      },
      "execution_count": 31,
      "outputs": [
        {
          "output_type": "stream",
          "name": "stdout",
          "text": [
            "+--------------------+---+----+--------+-------+---+------+-----+-----+------+------+--------+-----+------+----+---------+\n",
            "|                name|mfr|type|calories|protein|fat|sodium|fiber|carbo|sugars|potass|vitamins|shelf|weight|cups|   rating|\n",
            "+--------------------+---+----+--------+-------+---+------+-----+-----+------+------+--------+-----+------+----+---------+\n",
            "|Apple Cinnamon Ch...|  G|   C|     110|      2|  2|   180|  1.5| 10.5|    10|    70|      25|    1|   1.0|0.75|29.509541|\n",
            "|             Basic 4|  G|   C|     130|      3|  2|   210|  2.0| 18.0|     8|   100|      25|    3|  1.33|0.75|37.038562|\n",
            "|            Cheerios|  G|   C|     110|      6|  2|   290|  2.0| 17.0|     1|   105|      25|    1|   1.0|1.25|50.764999|\n",
            "|Cinnamon Toast Cr...|  G|   C|     120|      1|  3|   210|  0.0| 13.0|     9|    45|      25|    2|   1.0|0.75|19.823573|\n",
            "|            Clusters|  G|   C|     110|      3|  2|   140|  2.0| 13.0|     7|   105|      25|    3|   1.0| 0.5|40.400208|\n",
            "|         Cocoa Puffs|  G|   C|     110|      1|  1|   180|  0.0| 12.0|    13|    55|      25|    2|   1.0| 1.0|22.736446|\n",
            "|       Count Chocula|  G|   C|     110|      1|  1|   180|  0.0| 12.0|    13|    65|      25|    2|   1.0| 1.0|22.396513|\n",
            "|Crispy Wheat & Ra...|  G|   C|     100|      2|  1|   140|  2.0| 11.0|    10|   120|      25|    3|   1.0|0.75|36.176196|\n",
            "|      Golden Grahams|  G|   C|     110|      1|  1|   280|  0.0| 15.0|     9|    45|      25|    2|   1.0|0.75|23.804043|\n",
            "|  Honey Nut Cheerios|  G|   C|     110|      3|  1|   250|  1.5| 11.5|    10|    90|      25|    1|   1.0|0.75|31.072217|\n",
            "|                 Kix|  G|   C|     110|      2|  1|   260|  0.0| 21.0|     3|    40|      25|    2|   1.0| 1.5|39.241114|\n",
            "|        Lucky Charms|  G|   C|     110|      2|  1|   180|  0.0| 12.0|    12|    55|      25|    2|   1.0| 1.0|26.734515|\n",
            "|Multi-Grain Cheerios|  G|   C|     100|      2|  1|   220|  2.0| 15.0|     6|    90|      25|    1|   1.0| 1.0|40.105965|\n",
            "|Oatmeal Raisin Crisp|  G|   C|     130|      3|  2|   170|  1.5| 13.5|    10|   120|      25|    3|  1.25| 0.5|30.450843|\n",
            "|     Raisin Nut Bran|  G|   C|     100|      3|  2|   140|  2.5| 10.5|     8|   140|      25|    3|   1.0| 0.5|  39.7034|\n",
            "|   Total Corn Flakes|  G|   C|     110|      2|  1|   200|  0.0| 21.0|     3|    35|     100|    3|   1.0| 1.0|38.839746|\n",
            "|   Total Raisin Bran|  G|   C|     140|      3|  1|   190|  4.0| 15.0|    14|   230|     100|    3|   1.5| 1.0|28.592785|\n",
            "|   Total Whole Grain|  G|   C|     100|      3|  1|   200|  3.0| 16.0|     3|   110|     100|    3|   1.0| 1.0|46.658844|\n",
            "|             Triples|  G|   C|     110|      2|  1|   250|  0.0| 21.0|     3|    60|      25|    3|   1.0|0.75|39.106174|\n",
            "|                Trix|  G|   C|     110|      1|  1|   140|  0.0| 13.0|    12|    25|      25|    2|   1.0| 1.0|27.753301|\n",
            "+--------------------+---+----+--------+-------+---+------+-----+-----+------+------+--------+-----+------+----+---------+\n",
            "only showing top 20 rows\n",
            "\n"
          ]
        }
      ]
    },
    {
      "cell_type": "code",
      "source": [
        "df.where(df['mfr']=='G').count()"
      ],
      "metadata": {
        "colab": {
          "base_uri": "https://localhost:8080/"
        },
        "id": "6u77B19aNHTj",
        "outputId": "2346df7e-cde8-41db-d5dd-c3cda6d71334"
      },
      "execution_count": 32,
      "outputs": [
        {
          "output_type": "execute_result",
          "data": {
            "text/plain": [
              "22"
            ]
          },
          "metadata": {},
          "execution_count": 32
        }
      ]
    },
    {
      "cell_type": "code",
      "source": [
        "df.where(df['type']=='C').count()"
      ],
      "metadata": {
        "colab": {
          "base_uri": "https://localhost:8080/"
        },
        "id": "Ut0Iwa0_OpH7",
        "outputId": "56176b1e-4960-40e2-9eb5-69b9aba55e5d"
      },
      "execution_count": 33,
      "outputs": [
        {
          "output_type": "execute_result",
          "data": {
            "text/plain": [
              "74"
            ]
          },
          "metadata": {},
          "execution_count": 33
        }
      ]
    },
    {
      "cell_type": "markdown",
      "source": [
        "# Select Distinct no SparkSQL"
      ],
      "metadata": {
        "id": "9y1mmYW5i50Z"
      }
    },
    {
      "cell_type": "code",
      "source": [
        "df.printSchema()"
      ],
      "metadata": {
        "colab": {
          "base_uri": "https://localhost:8080/"
        },
        "id": "ODN1QbvMi8J_",
        "outputId": "470f43ef-43e0-4e8a-d5ca-00c480bfa160"
      },
      "execution_count": 34,
      "outputs": [
        {
          "output_type": "stream",
          "name": "stdout",
          "text": [
            "root\n",
            " |-- name: string (nullable = true)\n",
            " |-- mfr: string (nullable = true)\n",
            " |-- type: string (nullable = true)\n",
            " |-- calories: integer (nullable = true)\n",
            " |-- protein: integer (nullable = true)\n",
            " |-- fat: integer (nullable = true)\n",
            " |-- sodium: integer (nullable = true)\n",
            " |-- fiber: double (nullable = true)\n",
            " |-- carbo: double (nullable = true)\n",
            " |-- sugars: integer (nullable = true)\n",
            " |-- potass: integer (nullable = true)\n",
            " |-- vitamins: integer (nullable = true)\n",
            " |-- shelf: integer (nullable = true)\n",
            " |-- weight: double (nullable = true)\n",
            " |-- cups: double (nullable = true)\n",
            " |-- rating: double (nullable = true)\n",
            "\n"
          ]
        }
      ]
    },
    {
      "cell_type": "code",
      "source": [
        "df.createOrReplaceTempView(\"cereal\")"
      ],
      "metadata": {
        "id": "4e9o1-mRjZP9"
      },
      "execution_count": 35,
      "outputs": []
    },
    {
      "cell_type": "code",
      "source": [
        "cereal = spark.sql('''SELECT  DISTINCT  type, mfr FROM cereal''')\n",
        "cereal.show()"
      ],
      "metadata": {
        "colab": {
          "base_uri": "https://localhost:8080/"
        },
        "id": "WOyDXdZWi8IP",
        "outputId": "3215ad2a-a378-4071-b2ef-582714be5328"
      },
      "execution_count": 36,
      "outputs": [
        {
          "output_type": "stream",
          "name": "stdout",
          "text": [
            "+----+---+\n",
            "|type|mfr|\n",
            "+----+---+\n",
            "|   C|  P|\n",
            "|   C|  Q|\n",
            "|   C|  N|\n",
            "|   H|  Q|\n",
            "|   C|  R|\n",
            "|   H|  N|\n",
            "|   C|  G|\n",
            "|   H|  A|\n",
            "|   C|  K|\n",
            "+----+---+\n",
            "\n"
          ]
        }
      ]
    },
    {
      "cell_type": "markdown",
      "source": [
        "# Where no SparkSQL"
      ],
      "metadata": {
        "id": "OPj7qJRpj9U9"
      }
    },
    {
      "cell_type": "code",
      "source": [
        "cereal = spark.sql('''SELECT  DISTINCT  type, mfr FROM cereal where mfr in( 'N', 'K' ) ''')\n",
        "cereal.show()"
      ],
      "metadata": {
        "colab": {
          "base_uri": "https://localhost:8080/"
        },
        "id": "_7zVUXYWj_Ht",
        "outputId": "1e13cb44-5df1-432b-827c-cfad53bf2422"
      },
      "execution_count": 37,
      "outputs": [
        {
          "output_type": "stream",
          "name": "stdout",
          "text": [
            "+----+---+\n",
            "|type|mfr|\n",
            "+----+---+\n",
            "|   C|  N|\n",
            "|   H|  N|\n",
            "|   C|  K|\n",
            "+----+---+\n",
            "\n"
          ]
        }
      ]
    },
    {
      "cell_type": "code",
      "source": [
        "cereal = spark.sql('''SELECT  * FROM cereal where mfr = 'K' AND calories = 100 ''')\n",
        "cereal.show()"
      ],
      "metadata": {
        "colab": {
          "base_uri": "https://localhost:8080/"
        },
        "id": "pbGRNPdGj_FY",
        "outputId": "95602d3f-3603-44cf-c698-e50c420fe685"
      },
      "execution_count": 38,
      "outputs": [
        {
          "output_type": "stream",
          "name": "stdout",
          "text": [
            "+-------------------+---+----+--------+-------+---+------+-----+-----+------+------+--------+-----+------+----+---------+\n",
            "|               name|mfr|type|calories|protein|fat|sodium|fiber|carbo|sugars|potass|vitamins|shelf|weight|cups|   rating|\n",
            "+-------------------+---+----+--------+-------+---+------+-----+-----+------+------+--------+-----+------+----+---------+\n",
            "|        Corn Flakes|  K|   C|     100|      2|  0|   290|  1.0| 21.0|     2|    35|      25|    1|   1.0| 1.0|45.863324|\n",
            "|Frosted Mini-Wheats|  K|   C|     100|      3|  0|     0|  3.0| 14.0|     7|   100|      25|    2|   1.0| 0.8|58.345141|\n",
            "|         Product 19|  K|   C|     100|      3|  0|   320|  1.0| 20.0|     3|    45|     100|    3|   1.0| 1.0| 41.50354|\n",
            "+-------------------+---+----+--------+-------+---+------+-----+-----+------+------+--------+-----+------+----+---------+\n",
            "\n"
          ]
        }
      ]
    },
    {
      "cell_type": "code",
      "source": [
        "cereal = spark.sql('''SELECT  * FROM cereal where  calories = 100 ''')\n",
        "cereal.show()\n",
        "cereal.count()"
      ],
      "metadata": {
        "colab": {
          "base_uri": "https://localhost:8080/"
        },
        "id": "nCt_y94-ks1V",
        "outputId": "2fd29753-f193-4352-d319-b9952bbebbe6"
      },
      "execution_count": 39,
      "outputs": [
        {
          "output_type": "stream",
          "name": "stdout",
          "text": [
            "+--------------------+---+----+--------+-------+---+------+-----+-----+------+------+--------+-----+------+----+---------+\n",
            "|                name|mfr|type|calories|protein|fat|sodium|fiber|carbo|sugars|potass|vitamins|shelf|weight|cups|   rating|\n",
            "+--------------------+---+----+--------+-------+---+------+-----+-----+------+------+--------+-----+------+----+---------+\n",
            "|         Corn Flakes|  K|   C|     100|      2|  0|   290|  1.0| 21.0|     2|    35|      25|    1|   1.0| 1.0|45.863324|\n",
            "|Cream of Wheat (Q...|  N|   H|     100|      3|  0|    80|  1.0| 21.0|     0|    -1|       0|    2|   1.0| 1.0|64.533816|\n",
            "|Crispy Wheat & Ra...|  G|   C|     100|      2|  1|   140|  2.0| 11.0|    10|   120|      25|    3|   1.0|0.75|36.176196|\n",
            "|         Double Chex|  R|   C|     100|      2|  0|   190|  1.0| 18.0|     5|    80|      25|    3|   1.0|0.75|44.330856|\n",
            "| Frosted Mini-Wheats|  K|   C|     100|      3|  0|     0|  3.0| 14.0|     7|   100|      25|    2|   1.0| 0.8|58.345141|\n",
            "|        Golden Crisp|  P|   C|     100|      2|  0|    45|  0.0| 11.0|    15|    40|      25|    1|   1.0|0.88|35.252444|\n",
            "|   Grape Nuts Flakes|  P|   C|     100|      3|  1|   140|  3.0| 15.0|     5|    85|      25|    3|   1.0|0.88|52.076897|\n",
            "|                Life|  Q|   C|     100|      4|  2|   150|  2.0| 12.0|     6|    95|      25|    2|   1.0|0.67|45.328074|\n",
            "|               Maypo|  A|   H|     100|      4|  1|     0|  0.0| 16.0|     3|    95|      25|    2|   1.0| 1.0|54.850917|\n",
            "|Multi-Grain Cheerios|  G|   C|     100|      2|  1|   220|  2.0| 15.0|     6|    90|      25|    1|   1.0| 1.0|40.105965|\n",
            "|          Product 19|  K|   C|     100|      3|  0|   320|  1.0| 20.0|     3|    45|     100|    3|   1.0| 1.0| 41.50354|\n",
            "|  Quaker Oat Squares|  Q|   C|     100|      4|  1|   135|  2.0| 14.0|     6|   110|      25|    3|   1.0| 0.5|49.511874|\n",
            "|      Quaker Oatmeal|  Q|   H|     100|      5|  2|     0|  2.7| -1.0|    -1|   110|       0|    1|   1.0|0.67|50.828392|\n",
            "|     Raisin Nut Bran|  G|   C|     100|      3|  2|   140|  2.5| 10.5|     8|   140|      25|    3|   1.0| 0.5|  39.7034|\n",
            "|   Total Whole Grain|  G|   C|     100|      3|  1|   200|  3.0| 16.0|     3|   110|     100|    3|   1.0| 1.0|46.658844|\n",
            "|          Wheat Chex|  R|   C|     100|      3|  1|   230|  3.0| 17.0|     3|   115|      25|    1|   1.0|0.67|49.787445|\n",
            "|            Wheaties|  G|   C|     100|      3|  1|   200|  3.0| 17.0|     3|   110|      25|    1|   1.0| 1.0|51.592193|\n",
            "+--------------------+---+----+--------+-------+---+------+-----+-----+------+------+--------+-----+------+----+---------+\n",
            "\n"
          ]
        },
        {
          "output_type": "execute_result",
          "data": {
            "text/plain": [
              "17"
            ]
          },
          "metadata": {},
          "execution_count": 39
        }
      ]
    },
    {
      "cell_type": "markdown",
      "source": [
        "# GROUP BY"
      ],
      "metadata": {
        "id": "qLX_m77claVL"
      }
    },
    {
      "cell_type": "code",
      "source": [
        "cereal = spark.sql('''SELECT mfr, \\\n",
        "                             type, \\\n",
        "                             count(*) AS total,\n",
        "                             sum(calories) AS total_calories\n",
        "                      FROM cereal\n",
        "                      GROUP BY  \\\n",
        "                            mfr, \\\n",
        "                            type ''''')\n",
        "cereal.show()"
      ],
      "metadata": {
        "colab": {
          "base_uri": "https://localhost:8080/"
        },
        "id": "F1tWN4MVlcXT",
        "outputId": "58d99343-e1cc-4d76-84a1-4e16b0297a04"
      },
      "execution_count": 40,
      "outputs": [
        {
          "output_type": "stream",
          "name": "stdout",
          "text": [
            "+---+----+-----+--------------+\n",
            "|mfr|type|total|total_calories|\n",
            "+---+----+-----+--------------+\n",
            "|  A|   H|    1|           100|\n",
            "|  P|   C|    9|           980|\n",
            "|  K|   C|   23|          2500|\n",
            "|  G|   C|   22|          2450|\n",
            "|  Q|   C|    7|           660|\n",
            "|  R|   C|    8|           920|\n",
            "|  Q|   H|    1|           100|\n",
            "|  N|   H|    1|           100|\n",
            "|  N|   C|    5|           420|\n",
            "+---+----+-----+--------------+\n",
            "\n"
          ]
        }
      ]
    },
    {
      "cell_type": "markdown",
      "source": [
        "# CASE WHEN"
      ],
      "metadata": {
        "id": "P4IxW-dQoZTv"
      }
    },
    {
      "cell_type": "code",
      "source": [
        "cereal = spark.sql(''' SELECT DISTINCT type\n",
        "                        FROM cereal''')\n",
        "cereal.show()"
      ],
      "metadata": {
        "colab": {
          "base_uri": "https://localhost:8080/"
        },
        "id": "jmvInovSob8W",
        "outputId": "bb7c1d3f-e965-4f86-e02b-19b17ffe13c1"
      },
      "execution_count": 41,
      "outputs": [
        {
          "output_type": "stream",
          "name": "stdout",
          "text": [
            "+----+\n",
            "|type|\n",
            "+----+\n",
            "|   C|\n",
            "|   H|\n",
            "+----+\n",
            "\n"
          ]
        }
      ]
    },
    {
      "cell_type": "code",
      "source": [
        "cereal = spark.sql(''' SELECT mfr,\n",
        "                              type,\n",
        "                             (case\n",
        "                                    when type = 'C' then 'A'\n",
        "                                    --when type = 'H' then 'B'\n",
        "                                    else 'B'\n",
        "                             end) as type_new,\n",
        "                             count(*) AS total,\n",
        "                             sum(calories) AS total_calories\n",
        "                      FROM cereal\n",
        "                      GROUP BY\n",
        "                            mfr,\n",
        "                            type ''''')\n",
        "cereal.show()"
      ],
      "metadata": {
        "colab": {
          "base_uri": "https://localhost:8080/"
        },
        "id": "t8P1YaZ0ob-h",
        "outputId": "7be12ffd-347f-4f84-eca3-0d61d520348a"
      },
      "execution_count": 42,
      "outputs": [
        {
          "output_type": "stream",
          "name": "stdout",
          "text": [
            "+---+----+--------+-----+--------------+\n",
            "|mfr|type|type_new|total|total_calories|\n",
            "+---+----+--------+-----+--------------+\n",
            "|  A|   H|       B|    1|           100|\n",
            "|  P|   C|       A|    9|           980|\n",
            "|  K|   C|       A|   23|          2500|\n",
            "|  G|   C|       A|   22|          2450|\n",
            "|  Q|   C|       A|    7|           660|\n",
            "|  R|   C|       A|    8|           920|\n",
            "|  Q|   H|       B|    1|           100|\n",
            "|  N|   H|       B|    1|           100|\n",
            "|  N|   C|       A|    5|           420|\n",
            "+---+----+--------+-----+--------------+\n",
            "\n"
          ]
        }
      ]
    },
    {
      "cell_type": "markdown",
      "source": [
        "# Consultas Avançadas em SQL usando PySpark\n"
      ],
      "metadata": {
        "id": "_huq_41wBqEv"
      }
    },
    {
      "cell_type": "code",
      "source": [
        "df.show(5)"
      ],
      "metadata": {
        "colab": {
          "base_uri": "https://localhost:8080/"
        },
        "id": "vz8XkjsnBr76",
        "outputId": "0e1f81a5-150e-4975-8548-02c2d3194698"
      },
      "execution_count": 43,
      "outputs": [
        {
          "output_type": "stream",
          "name": "stdout",
          "text": [
            "+--------------------+---+----+--------+-------+---+------+-----+-----+------+------+--------+-----+------+----+---------+\n",
            "|                name|mfr|type|calories|protein|fat|sodium|fiber|carbo|sugars|potass|vitamins|shelf|weight|cups|   rating|\n",
            "+--------------------+---+----+--------+-------+---+------+-----+-----+------+------+--------+-----+------+----+---------+\n",
            "|           100% Bran|  N|   C|      70|      4|  1|   130| 10.0|  5.0|     6|   280|      25|    3|   1.0|0.33|68.402973|\n",
            "|   100% Natural Bran|  Q|   C|     120|      3|  5|    15|  2.0|  8.0|     8|   135|       0|    3|   1.0| 1.0|33.983679|\n",
            "|            All-Bran|  K|   C|      70|      4|  1|   260|  9.0|  7.0|     5|   320|      25|    3|   1.0|0.33|59.425505|\n",
            "|All-Bran with Ext...|  K|   C|      50|      4|  0|   140| 14.0|  8.0|     0|   330|      25|    3|   1.0| 0.5|93.704912|\n",
            "|      Almond Delight|  R|   C|     110|      2|  2|   200|  1.0| 14.0|     8|    -1|      25|    3|   1.0|0.75|34.384843|\n",
            "+--------------------+---+----+--------+-------+---+------+-----+-----+------+------+--------+-----+------+----+---------+\n",
            "only showing top 5 rows\n",
            "\n"
          ]
        }
      ]
    },
    {
      "cell_type": "code",
      "source": [
        "cereal = spark.sql('''\n",
        "                  SELECT mfr,\n",
        "                         type,\n",
        "                         sum(calories) as sum_calories,\n",
        "                         min(calories) as min_calories,\n",
        "                         max(calories) as max_calories,\n",
        "                         cast (avg(calories) as decimal(10,2)) as avg_calories,\n",
        "\n",
        "                         sum(carbo) as sum_carbo,\n",
        "                         min(carbo) as min_carbo,\n",
        "                         max(carbo) as max_carbo,\n",
        "                         cast (avg(carbo) as decimal(10,2)) as avg_carbo,\n",
        "\n",
        "                         sum(vitamins) as sum_vitamins,\n",
        "                         min(vitamins) as min_vitamins,\n",
        "                         max(vitamins) as max_vitamins,\n",
        "                         cast (avg(vitamins) as decimal(10,2)) as avg_vitamins,\n",
        "\n",
        "                         count(distinct name) as count_distinct_names,\n",
        "                         count(name) as count_names\n",
        "                  FROM cereal\n",
        "                  GROUP BY mfr, type\n",
        "                  ORDER BY mfr, type ''')\n",
        "cereal.show()"
      ],
      "metadata": {
        "colab": {
          "base_uri": "https://localhost:8080/"
        },
        "id": "CPnJImnUBuMx",
        "outputId": "d176e748-5512-4bff-c3fd-21fe300bd6a7"
      },
      "execution_count": 44,
      "outputs": [
        {
          "output_type": "stream",
          "name": "stdout",
          "text": [
            "+---+----+------------+------------+------------+------------+---------+---------+---------+---------+------------+------------+------------+------------+--------------------+-----------+\n",
            "|mfr|type|sum_calories|min_calories|max_calories|avg_calories|sum_carbo|min_carbo|max_carbo|avg_carbo|sum_vitamins|min_vitamins|max_vitamins|avg_vitamins|count_distinct_names|count_names|\n",
            "+---+----+------------+------------+------------+------------+---------+---------+---------+---------+------------+------------+------------+------------+--------------------+-----------+\n",
            "|  A|   H|         100|         100|         100|      100.00|     16.0|     16.0|     16.0|    16.00|          25|          25|          25|       25.00|                   1|          1|\n",
            "|  G|   C|        2450|         100|         140|      111.36|    324.0|     10.5|     21.0|    14.73|         775|          25|         100|       35.23|                  22|         22|\n",
            "|  K|   C|        2500|          50|         160|      108.70|    348.0|      7.0|     22.0|    15.13|         800|          25|         100|       34.78|                  23|         23|\n",
            "|  N|   C|         420|          70|          90|       84.00|     75.0|      5.0|     20.0|    15.00|          50|           0|          25|       10.00|                   5|          5|\n",
            "|  N|   H|         100|         100|         100|      100.00|     21.0|     21.0|     21.0|    21.00|           0|           0|           0|        0.00|                   1|          1|\n",
            "|  P|   C|         980|          90|         120|      108.89|    119.0|     11.0|     17.0|    13.22|         225|          25|          25|       25.00|                   9|          9|\n",
            "|  Q|   C|         660|          50|         120|       94.29|     81.0|      8.0|     14.0|    11.57|         100|           0|          25|       14.29|                   7|          7|\n",
            "|  Q|   H|         100|         100|         100|      100.00|     -1.0|     -1.0|     -1.0|    -1.00|           0|           0|           0|        0.00|                   1|          1|\n",
            "|  R|   C|         920|          90|         150|      115.00|    141.0|     14.0|     23.0|    17.63|         200|          25|          25|       25.00|                   8|          8|\n",
            "+---+----+------------+------------+------------+------------+---------+---------+---------+---------+------------+------------+------------+------------+--------------------+-----------+\n",
            "\n"
          ]
        }
      ]
    },
    {
      "cell_type": "code",
      "source": [
        "cereal = spark.sql('''\n",
        "                  SELECT mfr,\n",
        "                         type,\n",
        "                         (case\n",
        "                              when mfr = 'A' then 'Abacaxi'\n",
        "                              when mfr = 'G' then 'Goiaba'\n",
        "                              when mfr = 'K' then 'Banana'\n",
        "                              when mfr = 'N' then 'Maça'\n",
        "                              when mfr = 'P' then 'Tomate'\n",
        "                              when mfr = 'Q' then 'Pera'\n",
        "                              when mfr = 'R'then 'Uva'\n",
        "                              else 'NA'\n",
        "                         end) as type_fruit,\n",
        "\n",
        "                         sum(calories) as sum_calories,\n",
        "                         min(calories) as min_calories,\n",
        "                         max(calories) as max_calories,\n",
        "                         cast (avg(calories) as decimal(10,2)) as avg_calories,\n",
        "\n",
        "                         sum(carbo) as sum_carbo,\n",
        "                         min(carbo) as min_carbo,\n",
        "                         max(carbo) as max_carbo,\n",
        "                         cast (avg(carbo) as decimal(10,2)) as avg_carbo,\n",
        "\n",
        "                         sum(vitamins) as sum_vitamins,\n",
        "                         min(vitamins) as min_vitamins,\n",
        "                         max(vitamins) as max_vitamins,\n",
        "                         cast (avg(vitamins) as decimal(10,2)) as avg_vitamins,\n",
        "\n",
        "                         count(distinct name) as count_distinct_names,\n",
        "                         count(name) as count_names\n",
        "                  FROM cereal\n",
        "                  GROUP BY mfr, type\n",
        "                  ORDER BY mfr, type ''')\n",
        "cereal.show()"
      ],
      "metadata": {
        "colab": {
          "base_uri": "https://localhost:8080/"
        },
        "id": "Rhsxm3-6QUfR",
        "outputId": "e2f5291f-50d6-4c4c-aaf4-e30860fb09e7"
      },
      "execution_count": 48,
      "outputs": [
        {
          "output_type": "stream",
          "name": "stdout",
          "text": [
            "+---+----+----------+------------+------------+------------+------------+---------+---------+---------+---------+------------+------------+------------+------------+--------------------+-----------+\n",
            "|mfr|type|type_fruit|sum_calories|min_calories|max_calories|avg_calories|sum_carbo|min_carbo|max_carbo|avg_carbo|sum_vitamins|min_vitamins|max_vitamins|avg_vitamins|count_distinct_names|count_names|\n",
            "+---+----+----------+------------+------------+------------+------------+---------+---------+---------+---------+------------+------------+------------+------------+--------------------+-----------+\n",
            "|  A|   H|   Abacaxi|         100|         100|         100|      100.00|     16.0|     16.0|     16.0|    16.00|          25|          25|          25|       25.00|                   1|          1|\n",
            "|  G|   C|    Goiaba|        2450|         100|         140|      111.36|    324.0|     10.5|     21.0|    14.73|         775|          25|         100|       35.23|                  22|         22|\n",
            "|  K|   C|    Banana|        2500|          50|         160|      108.70|    348.0|      7.0|     22.0|    15.13|         800|          25|         100|       34.78|                  23|         23|\n",
            "|  N|   C|      Maça|         420|          70|          90|       84.00|     75.0|      5.0|     20.0|    15.00|          50|           0|          25|       10.00|                   5|          5|\n",
            "|  N|   H|      Maça|         100|         100|         100|      100.00|     21.0|     21.0|     21.0|    21.00|           0|           0|           0|        0.00|                   1|          1|\n",
            "|  P|   C|    Tomate|         980|          90|         120|      108.89|    119.0|     11.0|     17.0|    13.22|         225|          25|          25|       25.00|                   9|          9|\n",
            "|  Q|   C|      Pera|         660|          50|         120|       94.29|     81.0|      8.0|     14.0|    11.57|         100|           0|          25|       14.29|                   7|          7|\n",
            "|  Q|   H|      Pera|         100|         100|         100|      100.00|     -1.0|     -1.0|     -1.0|    -1.00|           0|           0|           0|        0.00|                   1|          1|\n",
            "|  R|   C|       Uva|         920|          90|         150|      115.00|    141.0|     14.0|     23.0|    17.63|         200|          25|          25|       25.00|                   8|          8|\n",
            "+---+----+----------+------------+------------+------------+------------+---------+---------+---------+---------+------------+------------+------------+------------+--------------------+-----------+\n",
            "\n"
          ]
        }
      ]
    },
    {
      "cell_type": "markdown",
      "source": [
        "# JOINs"
      ],
      "metadata": {
        "id": "AtUT55e6V_pE"
      }
    },
    {
      "cell_type": "markdown",
      "source": [
        "# INNER"
      ],
      "metadata": {
        "id": "6aNvwH34WAxT"
      }
    },
    {
      "cell_type": "code",
      "source": [
        "sales = spark.read.csv('sales_data_sample.csv', sep = ',', inferSchema=True, header = True)"
      ],
      "metadata": {
        "id": "PTd_nVF1WChc"
      },
      "execution_count": 46,
      "outputs": []
    },
    {
      "cell_type": "code",
      "source": [
        "sales.show(5)"
      ],
      "metadata": {
        "colab": {
          "base_uri": "https://localhost:8080/"
        },
        "id": "u6NZ4ZNeWGXt",
        "outputId": "d3163c09-49d2-4368-f2b6-703cc9e3ebb9"
      },
      "execution_count": 47,
      "outputs": [
        {
          "output_type": "stream",
          "name": "stdout",
          "text": [
            "+-----------+---------------+---------+---------------+-------+---------------+-------+------+--------+-------+-----------+----+-----------+--------------------+----------------+--------------------+------------+-------------+-----+----------+-------+---------+---------------+----------------+--------+\n",
            "|ORDERNUMBER|QUANTITYORDERED|PRICEEACH|ORDERLINENUMBER|  SALES|      ORDERDATE| STATUS|QTR_ID|MONTH_ID|YEAR_ID|PRODUCTLINE|MSRP|PRODUCTCODE|        CUSTOMERNAME|           PHONE|        ADDRESSLINE1|ADDRESSLINE2|         CITY|STATE|POSTALCODE|COUNTRY|TERRITORY|CONTACTLASTNAME|CONTACTFIRSTNAME|DEALSIZE|\n",
            "+-----------+---------------+---------+---------------+-------+---------------+-------+------+--------+-------+-----------+----+-----------+--------------------+----------------+--------------------+------------+-------------+-----+----------+-------+---------+---------------+----------------+--------+\n",
            "|      10107|             30|     95.7|              2| 2871.0| 2/24/2003 0:00|Shipped|     1|       2|   2003|Motorcycles|  95|   S10_1678|   Land of Toys Inc.|      2125557818|897 Long Airport ...|        NULL|          NYC|   NY|     10022|    USA|       NA|             Yu|            Kwai|   Small|\n",
            "|      10121|             34|    81.35|              5| 2765.9|  5/7/2003 0:00|Shipped|     2|       5|   2003|Motorcycles|  95|   S10_1678|  Reims Collectables|      26.47.1555|  59 rue de l'Abbaye|        NULL|        Reims| NULL|     51100| France|     EMEA|        Henriot|            Paul|   Small|\n",
            "|      10134|             41|    94.74|              2|3884.34|  7/1/2003 0:00|Shipped|     3|       7|   2003|Motorcycles|  95|   S10_1678|     Lyon Souveniers|+33 1 46 62 7555|27 rue du Colonel...|        NULL|        Paris| NULL|     75508| France|     EMEA|       Da Cunha|          Daniel|  Medium|\n",
            "|      10145|             45|    83.26|              6| 3746.7| 8/25/2003 0:00|Shipped|     3|       8|   2003|Motorcycles|  95|   S10_1678|   Toys4GrownUps.com|      6265557265|  78934 Hillside Dr.|        NULL|     Pasadena|   CA|     90003|    USA|       NA|          Young|           Julie|  Medium|\n",
            "|      10159|             49|    100.0|             14|5205.27|10/10/2003 0:00|Shipped|     4|      10|   2003|Motorcycles|  95|   S10_1678|Corporate Gift Id...|      6505551386|     7734 Strong St.|        NULL|San Francisco|   CA|      NULL|    USA|       NA|          Brown|           Julie|  Medium|\n",
            "+-----------+---------------+---------+---------------+-------+---------------+-------+------+--------+-------+-----------+----+-----------+--------------------+----------------+--------------------+------------+-------------+-----+----------+-------+---------+---------------+----------------+--------+\n",
            "only showing top 5 rows\n",
            "\n"
          ]
        }
      ]
    },
    {
      "cell_type": "code",
      "source": [
        "sales.printSchema()"
      ],
      "metadata": {
        "colab": {
          "base_uri": "https://localhost:8080/"
        },
        "id": "Ok3Y3kh5XZFR",
        "outputId": "ea46ee55-f127-4eb8-8ab9-a65119a247c3"
      },
      "execution_count": 50,
      "outputs": [
        {
          "output_type": "stream",
          "name": "stdout",
          "text": [
            "root\n",
            " |-- ORDERNUMBER: integer (nullable = true)\n",
            " |-- QUANTITYORDERED: integer (nullable = true)\n",
            " |-- PRICEEACH: double (nullable = true)\n",
            " |-- ORDERLINENUMBER: integer (nullable = true)\n",
            " |-- SALES: double (nullable = true)\n",
            " |-- ORDERDATE: string (nullable = true)\n",
            " |-- STATUS: string (nullable = true)\n",
            " |-- QTR_ID: integer (nullable = true)\n",
            " |-- MONTH_ID: integer (nullable = true)\n",
            " |-- YEAR_ID: integer (nullable = true)\n",
            " |-- PRODUCTLINE: string (nullable = true)\n",
            " |-- MSRP: integer (nullable = true)\n",
            " |-- PRODUCTCODE: string (nullable = true)\n",
            " |-- CUSTOMERNAME: string (nullable = true)\n",
            " |-- PHONE: string (nullable = true)\n",
            " |-- ADDRESSLINE1: string (nullable = true)\n",
            " |-- ADDRESSLINE2: string (nullable = true)\n",
            " |-- CITY: string (nullable = true)\n",
            " |-- STATE: string (nullable = true)\n",
            " |-- POSTALCODE: string (nullable = true)\n",
            " |-- COUNTRY: string (nullable = true)\n",
            " |-- TERRITORY: string (nullable = true)\n",
            " |-- CONTACTLASTNAME: string (nullable = true)\n",
            " |-- CONTACTFIRSTNAME: string (nullable = true)\n",
            " |-- DEALSIZE: string (nullable = true)\n",
            "\n"
          ]
        }
      ]
    },
    {
      "cell_type": "code",
      "source": [
        "sales.createOrReplaceTempView('sales')"
      ],
      "metadata": {
        "id": "HXJx2oZVWVjR"
      },
      "execution_count": 49,
      "outputs": []
    },
    {
      "cell_type": "code",
      "source": [
        "calendar = spark.sql('''\n",
        "                  SELECT DISTINCT orderdate, qtr_id, month_id, year_id\n",
        "                  FROM sales\n",
        "                  ORDER BY orderdate\n",
        "                ''')\n",
        "\n",
        "sales_data = spark.sql('''\n",
        "                  SELECT DISTINCT ORDERNUMBER,\n",
        "                                  CUSTOMERNAME,\n",
        "                                  ORDERDATE,\n",
        "                                  SALES,\n",
        "                                  QUANTITYORDERED,\n",
        "                                  PRODUCTCODE,\n",
        "                                  ORDERLINENUMBER,\n",
        "                                  PRICEEACH\n",
        "                  FROM sales\n",
        "                  ORDER BY ORDERNUMBER\n",
        "                ''')\n",
        "\n",
        "customers = spark.sql('''\n",
        "                  SELECT DISTINCT CUSTOMERNAME,\n",
        "                                  PHONE,\n",
        "                                  ADDRESSLINE1,\n",
        "                                  ADDRESSLINE2,\n",
        "                                  CITY,\n",
        "                                  STATE,\n",
        "                                  POSTALCODE,\n",
        "                                  COUNTRY,\n",
        "                                  TERRITORY\n",
        "                  FROM sales\n",
        "                  ORDER BY CUSTOMERNAME\n",
        "                ''')\n",
        "sales_data.createOrReplaceTempView('sales_data')\n",
        "calendar.createOrReplaceTempView('calendar')\n",
        "customers.createOrReplaceTempView('customers')"
      ],
      "metadata": {
        "id": "nmvZASs9Xp2y"
      },
      "execution_count": 52,
      "outputs": []
    },
    {
      "cell_type": "code",
      "source": [
        "sales_data.show()"
      ],
      "metadata": {
        "colab": {
          "base_uri": "https://localhost:8080/"
        },
        "id": "_-Q0DuGSYiVZ",
        "outputId": "a1d5195a-6b59-4b97-8cf1-343722cef16d"
      },
      "execution_count": 53,
      "outputs": [
        {
          "output_type": "stream",
          "name": "stdout",
          "text": [
            "+-----------+--------------------+--------------+-------+---------------+-----------+---------------+---------+\n",
            "|ORDERNUMBER|        CUSTOMERNAME|     ORDERDATE|  SALES|QUANTITYORDERED|PRODUCTCODE|ORDERLINENUMBER|PRICEEACH|\n",
            "+-----------+--------------------+--------------+-------+---------------+-----------+---------------+---------+\n",
            "|      10100|Online Diecast Cr...| 1/6/2003 0:00| 3390.0|             50|   S18_2248|              2|     67.8|\n",
            "|      10100|Online Diecast Cr...| 1/6/2003 0:00| 5151.0|             30|   S18_1749|              3|    100.0|\n",
            "|      10100|Online Diecast Cr...| 1/6/2003 0:00|1689.03|             49|   S24_3969|              1|    34.47|\n",
            "|      10100|Online Diecast Cr...| 1/6/2003 0:00|1903.22|             22|   S18_4409|              4|    86.51|\n",
            "|      10101|Blauer See Auto, Co.| 1/9/2003 0:00| 1404.0|             45|   S24_1937|              3|     31.2|\n",
            "|      10101|Blauer See Auto, Co.| 1/9/2003 0:00| 3782.0|             25|   S18_2325|              4|    100.0|\n",
            "|      10101|Blauer See Auto, Co.| 1/9/2003 0:00|2472.96|             46|   S24_2022|              2|    53.76|\n",
            "|      10101|Blauer See Auto, Co.| 1/9/2003 0:00|3773.38|             26|   S18_2795|              1|    100.0|\n",
            "|      10102|     Vitachrome Inc.|1/10/2003 0:00|2055.74|             41|   S18_1367|              1|    50.14|\n",
            "|      10102|     Vitachrome Inc.|1/10/2003 0:00|4808.31|             39|   S18_1342|              2|    100.0|\n",
            "|      10103|  Baane Mini Imports|1/29/2003 0:00|3394.98|             27|   S12_1666|              8|    100.0|\n",
            "|      10103|  Baane Mini Imports|1/29/2003 0:00|3680.28|             36|   S24_2300|              1|    100.0|\n",
            "|      10103|  Baane Mini Imports|1/29/2003 0:00| 2539.5|             25|   S18_3136|             13|    100.0|\n",
            "|      10103|  Baane Mini Imports|1/29/2003 0:00|1938.89|             41|   S18_4668|              9|    47.29|\n",
            "|      10103|  Baane Mini Imports|1/29/2003 0:00| 3920.0|             35|   S18_1097|             10|    100.0|\n",
            "|      10103|  Baane Mini Imports|1/29/2003 0:00|4460.82|             42|  S700_2824|              6|    100.0|\n",
            "|      10103|  Baane Mini Imports|1/29/2003 0:00| 4228.2|             36|   S18_4600|              5|    100.0|\n",
            "|      10103|  Baane Mini Imports|1/29/2003 0:00|3403.35|             45|   S32_3522|              7|    75.63|\n",
            "|      10103|  Baane Mini Imports|1/29/2003 0:00|5398.26|             42|   S10_4962|              4|    100.0|\n",
            "|      10103|  Baane Mini Imports|1/29/2003 0:00| 2011.1|             35|   S18_2957|             14|    57.46|\n",
            "+-----------+--------------------+--------------+-------+---------------+-----------+---------------+---------+\n",
            "only showing top 20 rows\n",
            "\n"
          ]
        }
      ]
    },
    {
      "cell_type": "code",
      "source": [
        "calendar.show()"
      ],
      "metadata": {
        "colab": {
          "base_uri": "https://localhost:8080/"
        },
        "id": "Vp0QIkdwYk1N",
        "outputId": "38bea7e0-9bb9-442b-91ed-da74da6fca60"
      },
      "execution_count": 54,
      "outputs": [
        {
          "output_type": "stream",
          "name": "stdout",
          "text": [
            "+--------------+------+--------+-------+\n",
            "|     orderdate|qtr_id|month_id|year_id|\n",
            "+--------------+------+--------+-------+\n",
            "|1/10/2003 0:00|     1|       1|   2003|\n",
            "|1/10/2005 0:00|     1|       1|   2005|\n",
            "|1/12/2004 0:00|     1|       1|   2004|\n",
            "|1/12/2005 0:00|     1|       1|   2005|\n",
            "|1/15/2004 0:00|     1|       1|   2004|\n",
            "|1/16/2004 0:00|     1|       1|   2004|\n",
            "|1/19/2005 0:00|     1|       1|   2005|\n",
            "| 1/2/2004 0:00|     1|       1|   2004|\n",
            "|1/20/2005 0:00|     1|       1|   2005|\n",
            "|1/22/2004 0:00|     1|       1|   2004|\n",
            "|1/23/2005 0:00|     1|       1|   2005|\n",
            "|1/26/2004 0:00|     1|       1|   2004|\n",
            "|1/26/2005 0:00|     1|       1|   2005|\n",
            "|1/29/2003 0:00|     1|       1|   2003|\n",
            "|1/29/2004 0:00|     1|       1|   2004|\n",
            "|1/31/2003 0:00|     1|       1|   2003|\n",
            "|1/31/2005 0:00|     1|       1|   2005|\n",
            "| 1/5/2005 0:00|     1|       1|   2005|\n",
            "| 1/6/2003 0:00|     1|       1|   2003|\n",
            "| 1/6/2005 0:00|     1|       1|   2005|\n",
            "+--------------+------+--------+-------+\n",
            "only showing top 20 rows\n",
            "\n"
          ]
        }
      ]
    },
    {
      "cell_type": "code",
      "source": [
        "customers.show()"
      ],
      "metadata": {
        "colab": {
          "base_uri": "https://localhost:8080/"
        },
        "id": "lNTbMKNIYm1n",
        "outputId": "3feda022-f619-4aba-b08b-c98612c41075"
      },
      "execution_count": 55,
      "outputs": [
        {
          "output_type": "stream",
          "name": "stdout",
          "text": [
            "+--------------------+-----------------+--------------------+------------+--------------+----------+----------+---------+---------+\n",
            "|        CUSTOMERNAME|            PHONE|        ADDRESSLINE1|ADDRESSLINE2|          CITY|     STATE|POSTALCODE|  COUNTRY|TERRITORY|\n",
            "+--------------------+-----------------+--------------------+------------+--------------+----------+----------+---------+---------+\n",
            "|      AV Stores, Co.|   (171) 555-1555|   Fauntleroy Circus|        NULL|    Manchester|      NULL|   EC2 5NT|       UK|     EMEA|\n",
            "|        Alpha Cognac|       61.77.6555|1 rue Alsace-Lorr...|        NULL|      Toulouse|      NULL|     31000|   France|     EMEA|\n",
            "|  Amica Models & Co.|      011-4988555| Via Monte Bianco 34|        NULL|        Torino|      NULL|     10100|    Italy|     EMEA|\n",
            "|Anna's Decoration...|     02 9936 8555|   201 Miller Street|    Level 15|  North Sydney|       NSW|      2060|Australia|     APAC|\n",
            "|   Atelier graphique|       40.32.2555|      54, rue Royale|        NULL|        Nantes|      NULL|     44000|   France|     EMEA|\n",
            "|Australian Collec...|   61-9-3844-6555|      7 Allen Street|        NULL|  Glen Waverly|  Victoria|      3150|Australia|     APAC|\n",
            "|Australian Collec...|     03 9520 4555|   636 St Kilda Road|     Level 3|     Melbourne|  Victoria|      3004|Australia|     APAC|\n",
            "|Australian Gift N...|   61-7-3844-6555|31 Duncan St. Wes...|        NULL|South Brisbane|Queensland|      4101|Australia|     APAC|\n",
            "|  Auto Assoc. & Cie.|       30.59.8555|67, avenue de l'E...|        NULL|    Versailles|      NULL|     78000|   France|     EMEA|\n",
            "|    Auto Canal Petit|   (1) 47.55.6555|   25, rue Lauriston|        NULL|         Paris|      NULL|     75016|   France|     EMEA|\n",
            "|Auto-Moto Classic...|       6175558428|   16780 Pompton St.|        NULL|    Brickhaven|        MA|     58339|      USA|       NA|\n",
            "|  Baane Mini Imports|       07-98 9555|Erling Skakkes ga...|        NULL|       Stavern|      NULL|      4110|   Norway|     EMEA|\n",
            "|Bavarian Collecta...|+49 89 61 08 9555|        Hansastr. 15|        NULL|        Munich|      NULL|     80686|  Germany|     EMEA|\n",
            "|Blauer See Auto, Co.|+49 69 66 90 2555|       Lyonerstr. 34|        NULL|     Frankfurt|      NULL|     60528|  Germany|     EMEA|\n",
            "|   Boards & Toys Co.|       3105552373|    4097 Douglas Av.|        NULL|      Glendale|        CA|     92561|      USA|       NA|\n",
            "|         CAF Imports|  +34 913 728 555|Merchants House, ...|        NULL|        Madrid|      NULL|     28023|    Spain|     EMEA|\n",
            "|Cambridge Collect...|       6175555555|      4658 Baden Av.|        NULL|     Cambridge|        MA|     51247|      USA|       NA|\n",
            "|Canadian Gift Exc...|   (604) 555-3392|        1900 Oak St.|        NULL|     Vancouver|        BC|   V3F 2K1|   Canada|       NA|\n",
            "|Classic Gift Idea...|       2155554695|    782 First Street|        NULL|  Philadelphia|        PA|     71270|      USA|       NA|\n",
            "|Classic Legends Inc.|       2125558493|    5905 Pompton St.|   Suite 750|           NYC|        NY|     10022|      USA|       NA|\n",
            "+--------------------+-----------------+--------------------+------------+--------------+----------+----------+---------+---------+\n",
            "only showing top 20 rows\n",
            "\n"
          ]
        }
      ]
    },
    {
      "cell_type": "code",
      "source": [
        "calendar.count()"
      ],
      "metadata": {
        "colab": {
          "base_uri": "https://localhost:8080/"
        },
        "id": "YcQcdyuzYpWX",
        "outputId": "010af19a-2d87-44f6-d7fb-af7b54983b86"
      },
      "execution_count": 57,
      "outputs": [
        {
          "output_type": "execute_result",
          "data": {
            "text/plain": [
              "252"
            ]
          },
          "metadata": {},
          "execution_count": 57
        }
      ]
    },
    {
      "cell_type": "code",
      "source": [
        "sales_data.count()"
      ],
      "metadata": {
        "colab": {
          "base_uri": "https://localhost:8080/"
        },
        "id": "GT_sVk7OaV9I",
        "outputId": "fac03933-885b-4556-a9ab-b97b419a1874"
      },
      "execution_count": 58,
      "outputs": [
        {
          "output_type": "execute_result",
          "data": {
            "text/plain": [
              "2823"
            ]
          },
          "metadata": {},
          "execution_count": 58
        }
      ]
    },
    {
      "cell_type": "code",
      "source": [
        "customers.count()"
      ],
      "metadata": {
        "colab": {
          "base_uri": "https://localhost:8080/"
        },
        "id": "P5AUdJnsaVt2",
        "outputId": "6980d961-7110-4d2e-f9dd-8758eee59915"
      },
      "execution_count": 59,
      "outputs": [
        {
          "output_type": "execute_result",
          "data": {
            "text/plain": [
              "92"
            ]
          },
          "metadata": {},
          "execution_count": 59
        }
      ]
    },
    {
      "cell_type": "code",
      "source": [
        "master = spark.sql('''\n",
        "\n",
        "                  SELECT DISTINCT s.ordernumber, c.city\n",
        "                  FROM sales_data s\n",
        "                  INNER JOIN customers c ON s.CUSTOMERNAME=c.CUSTOMERNAME\n",
        "\n",
        "                  ''')\n",
        "master.show()"
      ],
      "metadata": {
        "colab": {
          "base_uri": "https://localhost:8080/"
        },
        "id": "qcyZ5bCIabF3",
        "outputId": "71895856-30a2-4ec4-b9b0-5b20e2da29e3"
      },
      "execution_count": 60,
      "outputs": [
        {
          "output_type": "stream",
          "name": "stdout",
          "text": [
            "+-----------+-------------+\n",
            "|ordernumber|         city|\n",
            "+-----------+-------------+\n",
            "|      10300|    Frankfurt|\n",
            "|      10385|   San Rafael|\n",
            "|      10241|   Strasbourg|\n",
            "|      10182|   San Rafael|\n",
            "|      10140|   Burlingame|\n",
            "|      10153|       Madrid|\n",
            "|      10293|       Torino|\n",
            "|      10161|      Aaarhus|\n",
            "|      10406|    Kobenhavn|\n",
            "|      10414|       Boston|\n",
            "|      10311|       Madrid|\n",
            "|      10357|   San Rafael|\n",
            "|      10195| White Plains|\n",
            "|      10189|     Pasadena|\n",
            "|      10422|    Allentown|\n",
            "|      10111|San Francisco|\n",
            "|      10204|          NYC|\n",
            "|      10151|         Oulu|\n",
            "|      10304|   Versailles|\n",
            "|      10369|   Brickhaven|\n",
            "+-----------+-------------+\n",
            "only showing top 20 rows\n",
            "\n"
          ]
        }
      ]
    }
  ]
}