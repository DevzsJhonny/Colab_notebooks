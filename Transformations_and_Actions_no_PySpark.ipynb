{
  "nbformat": 4,
  "nbformat_minor": 0,
  "metadata": {
    "colab": {
      "provenance": [],
      "authorship_tag": "ABX9TyNEwuN+jVq7iTMMzoidkRMU",
      "include_colab_link": true
    },
    "kernelspec": {
      "name": "python3",
      "display_name": "Python 3"
    },
    "language_info": {
      "name": "python"
    }
  },
  "cells": [
    {
      "cell_type": "markdown",
      "metadata": {
        "id": "view-in-github",
        "colab_type": "text"
      },
      "source": [
        "<a href=\"https://colab.research.google.com/github/DevzsJhonny/Colab_notebooks/blob/main/Transformations_and_Actions_no_PySpark.ipynb\" target=\"_parent\"><img src=\"https://colab.research.google.com/assets/colab-badge.svg\" alt=\"Open In Colab\"/></a>"
      ]
    },
    {
      "cell_type": "markdown",
      "source": [
        "# Instalação do PySpark no Google Colab\n"
      ],
      "metadata": {
        "id": "BXOZkhR6VIXt"
      }
    },
    {
      "cell_type": "code",
      "source": [
        "!pip install pyspark"
      ],
      "metadata": {
        "colab": {
          "base_uri": "https://localhost:8080/"
        },
        "id": "g81uGj2RVJ2d",
        "outputId": "fbb2dbfd-3fd4-4187-8069-b4bbeb204a62"
      },
      "execution_count": null,
      "outputs": [
        {
          "output_type": "stream",
          "name": "stdout",
          "text": [
            "Collecting pyspark\n",
            "  Downloading pyspark-3.5.1.tar.gz (317.0 MB)\n",
            "\u001b[2K     \u001b[90m━━━━━━━━━━━━━━━━━━━━━━━━━━━━━━━━━━━━━━━━\u001b[0m \u001b[32m317.0/317.0 MB\u001b[0m \u001b[31m4.5 MB/s\u001b[0m eta \u001b[36m0:00:00\u001b[0m\n",
            "\u001b[?25h  Preparing metadata (setup.py) ... \u001b[?25l\u001b[?25hdone\n",
            "Requirement already satisfied: py4j==0.10.9.7 in /usr/local/lib/python3.10/dist-packages (from pyspark) (0.10.9.7)\n",
            "Building wheels for collected packages: pyspark\n",
            "  Building wheel for pyspark (setup.py) ... \u001b[?25l\u001b[?25hdone\n",
            "  Created wheel for pyspark: filename=pyspark-3.5.1-py2.py3-none-any.whl size=317488493 sha256=79cc3cb06136c8f4db6c7dd629be1132099ad1035c272c8352d8b606722623b5\n",
            "  Stored in directory: /root/.cache/pip/wheels/80/1d/60/2c256ed38dddce2fdd93be545214a63e02fbd8d74fb0b7f3a6\n",
            "Successfully built pyspark\n",
            "Installing collected packages: pyspark\n",
            "Successfully installed pyspark-3.5.1\n"
          ]
        }
      ]
    },
    {
      "cell_type": "code",
      "source": [
        "!pip install findspark"
      ],
      "metadata": {
        "colab": {
          "base_uri": "https://localhost:8080/"
        },
        "id": "Pb7LD8WOVKUV",
        "outputId": "badb4778-aba8-4357-e2ef-1ae2a8e493d2"
      },
      "execution_count": null,
      "outputs": [
        {
          "output_type": "stream",
          "name": "stdout",
          "text": [
            "Collecting findspark\n",
            "  Downloading findspark-2.0.1-py2.py3-none-any.whl.metadata (352 bytes)\n",
            "Downloading findspark-2.0.1-py2.py3-none-any.whl (4.4 kB)\n",
            "Installing collected packages: findspark\n",
            "Successfully installed findspark-2.0.1\n"
          ]
        }
      ]
    },
    {
      "cell_type": "code",
      "source": [
        "from pyspark import SparkContext\n",
        "from pyspark.sql import SparkSession"
      ],
      "metadata": {
        "id": "jdWki7n7VKQV"
      },
      "execution_count": null,
      "outputs": []
    },
    {
      "cell_type": "code",
      "source": [
        "sc = SparkContext.getOrCreate()"
      ],
      "metadata": {
        "id": "d9ifawlLVKOF"
      },
      "execution_count": null,
      "outputs": []
    },
    {
      "cell_type": "code",
      "source": [
        "spark = SparkSession.builder.appName('PySpark DataFrame').getOrCreate()"
      ],
      "metadata": {
        "id": "oM66H3yJVR6F"
      },
      "execution_count": null,
      "outputs": []
    },
    {
      "cell_type": "markdown",
      "source": [
        "#Transformations"
      ],
      "metadata": {
        "id": "HJn9_EvmVmbu"
      }
    },
    {
      "cell_type": "markdown",
      "source": [
        "## map()"
      ],
      "metadata": {
        "id": "0r3l8-ENWOyb"
      }
    },
    {
      "cell_type": "code",
      "source": [
        "data= [1, 2, 3, 4, 5]\n",
        "myRDD= sc.parallelize(data)\n",
        "newRDD= myRDD.map(lambda x: x*2)\n",
        "print(newRDD.collect())"
      ],
      "metadata": {
        "colab": {
          "base_uri": "https://localhost:8080/"
        },
        "id": "uATHcmX4VoSc",
        "outputId": "dc272dd5-0284-4951-8e8c-094d8a280c40"
      },
      "execution_count": null,
      "outputs": [
        {
          "output_type": "stream",
          "name": "stdout",
          "text": [
            "[2, 4, 6, 8, 10]\n"
          ]
        }
      ]
    },
    {
      "cell_type": "markdown",
      "source": [
        "## filter()"
      ],
      "metadata": {
        "id": "L_kbHWhMW-Yr"
      }
    },
    {
      "cell_type": "code",
      "source": [
        "data= [1, 2, 3, 4, 5, 6, 7, 8, 9, 10]\n",
        "myRDD= sc.parallelize(data)\n",
        "newRDD= myRDD.filter(lambda x: x%2 == 0)\n",
        "print(newRDD.collect())"
      ],
      "metadata": {
        "colab": {
          "base_uri": "https://localhost:8080/"
        },
        "id": "I0depXtvVoPk",
        "outputId": "8c836e8f-6eea-40a8-9b68-ae3c51102737"
      },
      "execution_count": null,
      "outputs": [
        {
          "output_type": "stream",
          "name": "stdout",
          "text": [
            "[2, 4, 6, 8, 10]\n"
          ]
        }
      ]
    },
    {
      "cell_type": "markdown",
      "source": [
        "## distinct()"
      ],
      "metadata": {
        "id": "2DJeLOwSXyqy"
      }
    },
    {
      "cell_type": "code",
      "source": [
        "data=  [1, 1, 1, 2, 2, 2, 3, 3, 3, 3]\n",
        "myRDD= sc.parallelize(data)\n",
        "newRDD= myRDD.distinct()\n",
        "print(newRDD.collect())"
      ],
      "metadata": {
        "colab": {
          "base_uri": "https://localhost:8080/"
        },
        "id": "JP-Piq6HVn8M",
        "outputId": "3bc333a0-1789-40cf-9ecd-3b1ca7d4ea5c"
      },
      "execution_count": null,
      "outputs": [
        {
          "output_type": "stream",
          "name": "stdout",
          "text": [
            "[2, 1, 3]\n"
          ]
        }
      ]
    },
    {
      "cell_type": "markdown",
      "source": [
        "##GroupByKey()"
      ],
      "metadata": {
        "id": "Hskk2VmFYVaL"
      }
    },
    {
      "cell_type": "code",
      "source": [
        "myRDD = sc.parallelize([('a', 1), ('a', 2), ('a', 3), ('b', 1)])\n",
        "resultList= myRDD.groupByKey().mapValues(list)\n",
        "resultList.collect()"
      ],
      "metadata": {
        "colab": {
          "base_uri": "https://localhost:8080/"
        },
        "id": "1neYN7RXWLRH",
        "outputId": "e67e8318-ba27-4426-9c78-f211d74d59de"
      },
      "execution_count": null,
      "outputs": [
        {
          "output_type": "execute_result",
          "data": {
            "text/plain": [
              "[('b', [1]), ('a', [1, 2, 3])]"
            ]
          },
          "metadata": {},
          "execution_count": 13
        }
      ]
    },
    {
      "cell_type": "markdown",
      "source": [
        "##ReduceByKey()"
      ],
      "metadata": {
        "id": "CcaBpZCdYYsJ"
      }
    },
    {
      "cell_type": "code",
      "source": [
        "from operator import add\n",
        "myRDD = sc.parallelize([('a', 1), ('a', 2), ('a', 3), ('b', 1)])\n",
        "newRDD= myRDD.reduceByKey(add)\n",
        "newRDD.collect()"
      ],
      "metadata": {
        "colab": {
          "base_uri": "https://localhost:8080/"
        },
        "id": "Zp7CCJgLWLOf",
        "outputId": "3e2ca561-404a-41e8-9866-510b9fa8deb1"
      },
      "execution_count": null,
      "outputs": [
        {
          "output_type": "execute_result",
          "data": {
            "text/plain": [
              "[('b', 1), ('a', 6)]"
            ]
          },
          "metadata": {},
          "execution_count": 12
        }
      ]
    },
    {
      "cell_type": "markdown",
      "source": [
        "##SortByKey()"
      ],
      "metadata": {
        "id": "CwO9w25uYcJx"
      }
    },
    {
      "cell_type": "code",
      "source": [
        "myRDD = sc.parallelize([('c', 1), ('d', 2), ('a', 3), ('b', 4)])\n",
        "#sort by key\n",
        "newRDD= myRDD.sortByKey()\n",
        "newRDD.collect()"
      ],
      "metadata": {
        "colab": {
          "base_uri": "https://localhost:8080/"
        },
        "id": "JLwLMGUIWLL1",
        "outputId": "9cb0490b-01b1-47be-e2bc-f974c91f1a06"
      },
      "execution_count": null,
      "outputs": [
        {
          "output_type": "execute_result",
          "data": {
            "text/plain": [
              "[('a', 3), ('b', 4), ('c', 1), ('d', 2)]"
            ]
          },
          "metadata": {},
          "execution_count": 14
        }
      ]
    },
    {
      "cell_type": "markdown",
      "source": [
        "##Union()"
      ],
      "metadata": {
        "id": "cw-SqfNLaQwv"
      }
    },
    {
      "cell_type": "code",
      "source": [
        "myRDD1 = sc.parallelize([1, 2, 3, 4])\n",
        "myRDD2 = sc.parallelize([ 3, 4, 5, 6, 7])\n",
        "#union of myRDD1 and myRDD2\n",
        "newRDD = myRDD1.union(myRDD2)\n",
        "newRDD.collect()"
      ],
      "metadata": {
        "colab": {
          "base_uri": "https://localhost:8080/"
        },
        "id": "iDpbNB5VaR0_",
        "outputId": "2c1ed255-5217-4f49-ffb8-4c7496272958"
      },
      "execution_count": null,
      "outputs": [
        {
          "output_type": "execute_result",
          "data": {
            "text/plain": [
              "[1, 2, 3, 4, 3, 4, 5, 6, 7]"
            ]
          },
          "metadata": {},
          "execution_count": 15
        }
      ]
    },
    {
      "cell_type": "markdown",
      "source": [
        "#Actions"
      ],
      "metadata": {
        "id": "b7KyinnIWI_0"
      }
    },
    {
      "cell_type": "markdown",
      "source": [
        "## count()"
      ],
      "metadata": {
        "id": "0DT7R8ihbcSW"
      }
    },
    {
      "cell_type": "code",
      "source": [
        "data= ['Python','Scala', 'Java', 'R']\n",
        "myRDD= sc.parallelize(data)\n",
        "#Returns 4 as output\n",
        "myRDD.count()"
      ],
      "metadata": {
        "id": "YYu5d5TDWK4Y",
        "colab": {
          "base_uri": "https://localhost:8080/"
        },
        "outputId": "d60f0a6d-ae99-4f12-d30b-05f74f9c795e"
      },
      "execution_count": 17,
      "outputs": [
        {
          "output_type": "execute_result",
          "data": {
            "text/plain": [
              "4"
            ]
          },
          "metadata": {},
          "execution_count": 17
        }
      ]
    },
    {
      "cell_type": "code",
      "source": [
        "data= [1, 1, 1, 4, 5, 6, 7, 8, 9, 10]\n",
        "myRDD= sc.parallelize(data)\n",
        "myRDD.count()"
      ],
      "metadata": {
        "colab": {
          "base_uri": "https://localhost:8080/"
        },
        "id": "i8DwJfTUcc9T",
        "outputId": "13354567-5896-4877-cdeb-420ea3cb2e9f"
      },
      "execution_count": 19,
      "outputs": [
        {
          "output_type": "execute_result",
          "data": {
            "text/plain": [
              "10"
            ]
          },
          "metadata": {},
          "execution_count": 19
        }
      ]
    },
    {
      "cell_type": "markdown",
      "source": [
        "## reduce()"
      ],
      "metadata": {
        "id": "HOCwyQTWcSsA"
      }
    },
    {
      "cell_type": "code",
      "source": [
        "data= [1, 2, 3, 4, 5]\n",
        "myRDD= sc.parallelize(data)\n",
        "#returns the product of all the elements\n",
        "myRDD.reduce(lambda x, y: x * y)"
      ],
      "metadata": {
        "id": "27tSOCCTWK1R",
        "colab": {
          "base_uri": "https://localhost:8080/"
        },
        "outputId": "a4d0e5e1-17e3-4a9a-f5b9-bbea80a34b1c"
      },
      "execution_count": 18,
      "outputs": [
        {
          "output_type": "execute_result",
          "data": {
            "text/plain": [
              "120"
            ]
          },
          "metadata": {},
          "execution_count": 18
        }
      ]
    },
    {
      "cell_type": "markdown",
      "source": [
        "##foreach()"
      ],
      "metadata": {
        "id": "ozb9CFxSdH7G"
      }
    },
    {
      "cell_type": "code",
      "source": [
        "def fun(x):\n",
        "    print(x)\n",
        "data= ['Scala', 'Python', 'Java', 'R']\n",
        "myRDD= sc.parallelize(data)\n",
        "#function applied to all the elements\n",
        "myRDD.foreach(fun)\n",
        "myRDD.collect()"
      ],
      "metadata": {
        "id": "7FA1Z7kLWKyc",
        "colab": {
          "base_uri": "https://localhost:8080/"
        },
        "outputId": "c13ce9b3-f275-44eb-d673-c95fdf93bf20"
      },
      "execution_count": 22,
      "outputs": [
        {
          "output_type": "execute_result",
          "data": {
            "text/plain": [
              "['Scala', 'Python', 'Java', 'R']"
            ]
          },
          "metadata": {},
          "execution_count": 22
        }
      ]
    },
    {
      "cell_type": "markdown",
      "source": [
        "## countByValue()"
      ],
      "metadata": {
        "id": "Jrroykf7dYYU"
      }
    },
    {
      "cell_type": "code",
      "source": [
        "data= ['Python', 'Scala', 'Python', 'R', 'Python', 'Java', 'R']\n",
        "myRDD= sc.parallelize(data)\n",
        "#items() returns a list with all the dictionary keys and values returned by countByValue()\n",
        "myRDD.countByValue().items()"
      ],
      "metadata": {
        "id": "FHYuxf4OWKvz",
        "colab": {
          "base_uri": "https://localhost:8080/"
        },
        "outputId": "c4e2b408-0594-46bb-9f46-11801ced329a"
      },
      "execution_count": 21,
      "outputs": [
        {
          "output_type": "execute_result",
          "data": {
            "text/plain": [
              "dict_items([('Python', 3), ('Scala', 1), ('R', 2), ('Java', 1)])"
            ]
          },
          "metadata": {},
          "execution_count": 21
        }
      ]
    },
    {
      "cell_type": "markdown",
      "source": [
        "##countByKey()\n"
      ],
      "metadata": {
        "id": "Y4bAHJrddtuV"
      }
    },
    {
      "cell_type": "code",
      "source": [
        "data= [('a', 1), ('b', 1), ('c', 1), ('a', 1)]\n",
        "myRDD = sc.parallelize(data)\n",
        "myRDD.countByKey().items()"
      ],
      "metadata": {
        "id": "oNL3mi5zWKY7",
        "colab": {
          "base_uri": "https://localhost:8080/"
        },
        "outputId": "74ac655e-dd1e-4f28-c936-aa5852ee8c1c"
      },
      "execution_count": 23,
      "outputs": [
        {
          "output_type": "execute_result",
          "data": {
            "text/plain": [
              "dict_items([('a', 2), ('b', 1), ('c', 1)])"
            ]
          },
          "metadata": {},
          "execution_count": 23
        }
      ]
    },
    {
      "cell_type": "markdown",
      "source": [
        "## take(n)"
      ],
      "metadata": {
        "id": "TgUfFC4GeCMe"
      }
    },
    {
      "cell_type": "code",
      "source": [
        "data= [2, 5, 3, 8, 4]\n",
        "myRDD= sc.parallelize(data)\n",
        "#return the first 3 elements\n",
        "myRDD.take(3)"
      ],
      "metadata": {
        "colab": {
          "base_uri": "https://localhost:8080/"
        },
        "id": "_PIwCjF7eD9d",
        "outputId": "31e874ef-6501-4e20-bf3f-1c734b930636"
      },
      "execution_count": 24,
      "outputs": [
        {
          "output_type": "execute_result",
          "data": {
            "text/plain": [
              "[2, 5, 3]"
            ]
          },
          "metadata": {},
          "execution_count": 24
        }
      ]
    },
    {
      "cell_type": "markdown",
      "source": [
        "## top(n)"
      ],
      "metadata": {
        "id": "hmXisF9CeIRy"
      }
    },
    {
      "cell_type": "code",
      "source": [
        "data= [2, 5, 3, 8, 4]\n",
        "myRDD= sc.parallelize(data)\n",
        "#return the first 2 elements\n",
        "myRDD.top(3)"
      ],
      "metadata": {
        "colab": {
          "base_uri": "https://localhost:8080/"
        },
        "id": "1yAQLGaSeKQj",
        "outputId": "58a19ef7-826a-4dc2-d1d2-467c9aca42ab"
      },
      "execution_count": 26,
      "outputs": [
        {
          "output_type": "execute_result",
          "data": {
            "text/plain": [
              "[8, 5, 4]"
            ]
          },
          "metadata": {},
          "execution_count": 26
        }
      ]
    }
  ]
}