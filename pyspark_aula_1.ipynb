{
  "nbformat": 4,
  "nbformat_minor": 0,
  "metadata": {
    "colab": {
      "provenance": [],
      "authorship_tag": "ABX9TyNFdt47yekD1EhvSskr9P9I",
      "include_colab_link": true
    },
    "kernelspec": {
      "name": "python3",
      "display_name": "Python 3"
    },
    "language_info": {
      "name": "python"
    }
  },
  "cells": [
    {
      "cell_type": "markdown",
      "metadata": {
        "id": "view-in-github",
        "colab_type": "text"
      },
      "source": [
        "<a href=\"https://colab.research.google.com/github/DevzsJhonny/Colab_notebooks/blob/main/pyspark_aula_1.ipynb\" target=\"_parent\"><img src=\"https://colab.research.google.com/assets/colab-badge.svg\" alt=\"Open In Colab\"/></a>"
      ]
    },
    {
      "cell_type": "code",
      "execution_count": 2,
      "metadata": {
        "colab": {
          "base_uri": "https://localhost:8080/",
          "height": 916
        },
        "id": "kEWLWUk55B8H",
        "outputId": "0e50fea6-5e06-4c55-cd82-c75ddebe2b15"
      },
      "outputs": [
        {
          "output_type": "stream",
          "name": "stdout",
          "text": [
            "\u001b[33m\r0% [Working]\u001b[0m\r            \rGet:1 http://security.ubuntu.com/ubuntu jammy-security InRelease [129 kB]\n",
            "\u001b[33m\r0% [Connecting to archive.ubuntu.com (185.125.190.81)] [1 InRelease 2,586 B/129\u001b[0m\r                                                                               \rGet:2 https://cloud.r-project.org/bin/linux/ubuntu jammy-cran40/ InRelease [3,626 B]\n",
            "\u001b[33m\r0% [Waiting for headers] [1 InRelease 67.7 kB/129 kB 53%] [2 InRelease 0 B/3,62\u001b[0m\u001b[33m\r0% [Waiting for headers] [1 InRelease 88.0 kB/129 kB 68%] [Connected to r2u.sta\u001b[0m\u001b[33m\r0% [Waiting for headers] [Waiting for headers] [Waiting for headers] [Connected\u001b[0m\r                                                                               \rGet:3 https://developer.download.nvidia.com/compute/cuda/repos/ubuntu2204/x86_64  InRelease [1,581 B]\n",
            "Hit:4 http://archive.ubuntu.com/ubuntu jammy InRelease\n",
            "Ign:5 https://r2u.stat.illinois.edu/ubuntu jammy InRelease\n",
            "Get:6 https://r2u.stat.illinois.edu/ubuntu jammy Release [5,713 B]\n",
            "Get:7 http://archive.ubuntu.com/ubuntu jammy-updates InRelease [128 kB]\n",
            "Get:8 https://r2u.stat.illinois.edu/ubuntu jammy Release.gpg [793 B]\n",
            "Get:9 http://security.ubuntu.com/ubuntu jammy-security/main amd64 Packages [2,118 kB]\n",
            "Get:10 https://ppa.launchpadcontent.net/deadsnakes/ppa/ubuntu jammy InRelease [18.1 kB]\n",
            "Get:11 https://developer.download.nvidia.com/compute/cuda/repos/ubuntu2204/x86_64  Packages [910 kB]\n",
            "Hit:12 https://ppa.launchpadcontent.net/graphics-drivers/ppa/ubuntu jammy InRelease\n",
            "Hit:13 http://archive.ubuntu.com/ubuntu jammy-backports InRelease\n",
            "Hit:14 https://ppa.launchpadcontent.net/ubuntugis/ppa/ubuntu jammy InRelease\n",
            "Get:15 https://r2u.stat.illinois.edu/ubuntu jammy/main all Packages [8,218 kB]\n",
            "Get:16 https://ppa.launchpadcontent.net/deadsnakes/ppa/ubuntu jammy/main amd64 Packages [27.8 kB]\n",
            "Get:17 http://archive.ubuntu.com/ubuntu jammy-updates/main amd64 Packages [2,396 kB]\n",
            "Get:18 https://r2u.stat.illinois.edu/ubuntu jammy/main amd64 Packages [2,552 kB]\n",
            "Fetched 16.5 MB in 3s (5,106 kB/s)\n",
            "Reading package lists... Done\n",
            "Building dependency tree... Done\n",
            "Reading state information... Done\n",
            "50 packages can be upgraded. Run 'apt list --upgradable' to see them.\n",
            "\u001b[1;33mW: \u001b[0mSkipping acquire of configured file 'main/source/Sources' as repository 'https://r2u.stat.illinois.edu/ubuntu jammy InRelease' does not seem to provide it (sources.list entry misspelt?)\u001b[0m\n",
            "tar: spark-3.2.1-bin-hadoop3.2.tgz: Cannot open: No such file or directory\n",
            "tar: Error is not recoverable: exiting now\n",
            "Collecting pyspark\n",
            "  Downloading pyspark-3.5.1.tar.gz (317.0 MB)\n",
            "\u001b[2K     \u001b[90m━━━━━━━━━━━━━━━━━━━━━━━━━━━━━━━━━━━━━━━━\u001b[0m \u001b[32m317.0/317.0 MB\u001b[0m \u001b[31m4.5 MB/s\u001b[0m eta \u001b[36m0:00:00\u001b[0m\n",
            "\u001b[?25h  Preparing metadata (setup.py) ... \u001b[?25l\u001b[?25hdone\n",
            "Requirement already satisfied: py4j==0.10.9.7 in /usr/local/lib/python3.10/dist-packages (from pyspark) (0.10.9.7)\n",
            "Building wheels for collected packages: pyspark\n",
            "  Building wheel for pyspark (setup.py) ... \u001b[?25l\u001b[?25hdone\n",
            "  Created wheel for pyspark: filename=pyspark-3.5.1-py2.py3-none-any.whl size=317488490 sha256=09aefd68b6c812187b1bcaf82976d1a4b3e17bbf12162d66119120fe41e034b2\n",
            "  Stored in directory: /root/.cache/pip/wheels/80/1d/60/2c256ed38dddce2fdd93be545214a63e02fbd8d74fb0b7f3a6\n",
            "Successfully built pyspark\n",
            "Installing collected packages: pyspark\n",
            "Successfully installed pyspark-3.5.1\n",
            "Requirement already satisfied: py4j in /usr/local/lib/python3.10/dist-packages (0.10.9.7)\n"
          ]
        },
        {
          "output_type": "execute_result",
          "data": {
            "text/plain": [
              "<pyspark.sql.session.SparkSession at 0x79c717f5fc10>"
            ],
            "text/html": [
              "\n",
              "            <div>\n",
              "                <p><b>SparkSession - in-memory</b></p>\n",
              "                \n",
              "        <div>\n",
              "            <p><b>SparkContext</b></p>\n",
              "\n",
              "            <p><a href=\"http://0fa8eb29294b:4040\">Spark UI</a></p>\n",
              "\n",
              "            <dl>\n",
              "              <dt>Version</dt>\n",
              "                <dd><code>v3.5.1</code></dd>\n",
              "              <dt>Master</dt>\n",
              "                <dd><code>local[*]</code></dd>\n",
              "              <dt>AppName</dt>\n",
              "                <dd><code>Our First Spark Example</code></dd>\n",
              "            </dl>\n",
              "        </div>\n",
              "        \n",
              "            </div>\n",
              "        "
            ]
          },
          "metadata": {},
          "execution_count": 2
        }
      ],
      "source": [
        "!sudo apt update\n",
        "!apt-get install openjdk-8-jdk-headless -qq > /dev/null\n",
        "#Check this site for the latest download link https://www.apache.org/dyn/closer.lua/spark/spark-3.2.1/spark-3.2.1-bin-hadoop3.2.tgz\n",
        "!wget -q https://dlcdn.apache.org/spark/spark-3.2.1/spark-3.2.1-bin-hadoop3.2.tgz\n",
        "!tar xf spark-3.2.1-bin-hadoop3.2.tgz\n",
        "!pip install -q findspark\n",
        "!pip install pyspark\n",
        "!pip install py4j\n",
        "\n",
        "import os\n",
        "import sys\n",
        "# os.environ[\"JAVA_HOME\"] = \"/usr/lib/jvm/java-8-openjdk-amd64\"\n",
        "# os.environ[\"SPARK_HOME\"] = \"/content/spark-3.2.1-bin-hadoop3.2\"\n",
        "\n",
        "import findspark\n",
        "findspark.init()\n",
        "findspark.find()\n",
        "\n",
        "import pyspark\n",
        "\n",
        "from pyspark.sql import DataFrame, SparkSession\n",
        "from typing import List\n",
        "import pyspark.sql.types as T\n",
        "import pyspark.sql.functions as F\n",
        "\n",
        "spark= SparkSession.builder.appName(\"Our First Spark Example\").getOrCreate()\n",
        "\n",
        "spark"
      ]
    },
    {
      "cell_type": "code",
      "source": [
        "import requests\n",
        "path = \"https://raw.githubusercontent.com/owid/covid-19-data/master/public/data/owid-covid-data.csv\"\n",
        "req = requests.get(path)\n",
        "url_content = req.content\n",
        "\n",
        "csv_file_name = 'owid-covid-data.csv'\n",
        "csv_file = open(csv_file_name, 'wb')\n",
        "\n",
        "csv_file.write(url_content)\n",
        "csv_file.close()\n",
        "\n",
        "df = spark.read.csv('/content/'+csv_file_name, header=True, inferSchema=True)"
      ],
      "metadata": {
        "id": "hqXL5PPX51Oo"
      },
      "execution_count": 3,
      "outputs": []
    },
    {
      "cell_type": "code",
      "source": [
        "#Viewing the dataframe schema\n",
        "df.printSchema()"
      ],
      "metadata": {
        "colab": {
          "base_uri": "https://localhost:8080/"
        },
        "id": "mRU2fL5p6lgB",
        "outputId": "752a5cb6-c08f-4e91-cc53-ae22122aa41d"
      },
      "execution_count": 4,
      "outputs": [
        {
          "output_type": "stream",
          "name": "stdout",
          "text": [
            "root\n",
            " |-- iso_code: string (nullable = true)\n",
            " |-- continent: string (nullable = true)\n",
            " |-- location: string (nullable = true)\n",
            " |-- date: date (nullable = true)\n",
            " |-- total_cases: integer (nullable = true)\n",
            " |-- new_cases: integer (nullable = true)\n",
            " |-- new_cases_smoothed: double (nullable = true)\n",
            " |-- total_deaths: integer (nullable = true)\n",
            " |-- new_deaths: integer (nullable = true)\n",
            " |-- new_deaths_smoothed: double (nullable = true)\n",
            " |-- total_cases_per_million: double (nullable = true)\n",
            " |-- new_cases_per_million: double (nullable = true)\n",
            " |-- new_cases_smoothed_per_million: double (nullable = true)\n",
            " |-- total_deaths_per_million: double (nullable = true)\n",
            " |-- new_deaths_per_million: double (nullable = true)\n",
            " |-- new_deaths_smoothed_per_million: double (nullable = true)\n",
            " |-- reproduction_rate: double (nullable = true)\n",
            " |-- icu_patients: integer (nullable = true)\n",
            " |-- icu_patients_per_million: double (nullable = true)\n",
            " |-- hosp_patients: integer (nullable = true)\n",
            " |-- hosp_patients_per_million: double (nullable = true)\n",
            " |-- weekly_icu_admissions: integer (nullable = true)\n",
            " |-- weekly_icu_admissions_per_million: double (nullable = true)\n",
            " |-- weekly_hosp_admissions: integer (nullable = true)\n",
            " |-- weekly_hosp_admissions_per_million: double (nullable = true)\n",
            " |-- total_tests: long (nullable = true)\n",
            " |-- new_tests: integer (nullable = true)\n",
            " |-- total_tests_per_thousand: double (nullable = true)\n",
            " |-- new_tests_per_thousand: double (nullable = true)\n",
            " |-- new_tests_smoothed: double (nullable = true)\n",
            " |-- new_tests_smoothed_per_thousand: double (nullable = true)\n",
            " |-- positive_rate: double (nullable = true)\n",
            " |-- tests_per_case: double (nullable = true)\n",
            " |-- tests_units: string (nullable = true)\n",
            " |-- total_vaccinations: long (nullable = true)\n",
            " |-- people_vaccinated: long (nullable = true)\n",
            " |-- people_fully_vaccinated: long (nullable = true)\n",
            " |-- total_boosters: long (nullable = true)\n",
            " |-- new_vaccinations: integer (nullable = true)\n",
            " |-- new_vaccinations_smoothed: double (nullable = true)\n",
            " |-- total_vaccinations_per_hundred: double (nullable = true)\n",
            " |-- people_vaccinated_per_hundred: double (nullable = true)\n",
            " |-- people_fully_vaccinated_per_hundred: double (nullable = true)\n",
            " |-- total_boosters_per_hundred: double (nullable = true)\n",
            " |-- new_vaccinations_smoothed_per_million: double (nullable = true)\n",
            " |-- new_people_vaccinated_smoothed: double (nullable = true)\n",
            " |-- new_people_vaccinated_smoothed_per_hundred: double (nullable = true)\n",
            " |-- stringency_index: double (nullable = true)\n",
            " |-- population_density: double (nullable = true)\n",
            " |-- median_age: double (nullable = true)\n",
            " |-- aged_65_older: double (nullable = true)\n",
            " |-- aged_70_older: double (nullable = true)\n",
            " |-- gdp_per_capita: double (nullable = true)\n",
            " |-- extreme_poverty: double (nullable = true)\n",
            " |-- cardiovasc_death_rate: double (nullable = true)\n",
            " |-- diabetes_prevalence: double (nullable = true)\n",
            " |-- female_smokers: double (nullable = true)\n",
            " |-- male_smokers: double (nullable = true)\n",
            " |-- handwashing_facilities: double (nullable = true)\n",
            " |-- hospital_beds_per_thousand: double (nullable = true)\n",
            " |-- life_expectancy: double (nullable = true)\n",
            " |-- human_development_index: double (nullable = true)\n",
            " |-- population: long (nullable = true)\n",
            " |-- excess_mortality_cumulative_absolute: double (nullable = true)\n",
            " |-- excess_mortality_cumulative: double (nullable = true)\n",
            " |-- excess_mortality: double (nullable = true)\n",
            " |-- excess_mortality_cumulative_per_million: double (nullable = true)\n",
            "\n"
          ]
        }
      ]
    },
    {
      "cell_type": "code",
      "source": [
        "#Converting a date column\n",
        "df.select(F.to_date(df.date).alias('date'))"
      ],
      "metadata": {
        "colab": {
          "base_uri": "https://localhost:8080/"
        },
        "id": "DS538xXG6qyf",
        "outputId": "b9106d67-dd81-4f68-fe0a-46e0f2fbb7dd"
      },
      "execution_count": 5,
      "outputs": [
        {
          "output_type": "execute_result",
          "data": {
            "text/plain": [
              "DataFrame[date: date]"
            ]
          },
          "metadata": {},
          "execution_count": 5
        }
      ]
    },
    {
      "cell_type": "code",
      "source": [
        "#Summary stats\n",
        "df.describe().show()"
      ],
      "metadata": {
        "colab": {
          "base_uri": "https://localhost:8080/"
        },
        "id": "1RCT-RqN6uC7",
        "outputId": "409e2100-f7d6-4918-8d38-3a9eb3d57698"
      },
      "execution_count": 6,
      "outputs": [
        {
          "output_type": "stream",
          "name": "stdout",
          "text": [
            "+-------+--------+-------------+-----------+------------------+------------------+------------------+-----------------+------------------+-------------------+-----------------------+---------------------+------------------------------+------------------------+----------------------+-------------------------------+------------------+------------------+------------------------+------------------+-------------------------+---------------------+---------------------------------+----------------------+----------------------------------+-------------------+------------------+------------------------+----------------------+------------------+-------------------------------+-------------------+------------------+-------------+-------------------+-------------------+-----------------------+--------------------+-----------------+-------------------------+------------------------------+-----------------------------+-----------------------------------+--------------------------+-------------------------------------+------------------------------+------------------------------------------+------------------+------------------+------------------+-----------------+-----------------+-----------------+------------------+---------------------+-------------------+------------------+-----------------+----------------------+--------------------------+------------------+-----------------------+--------------------+------------------------------------+---------------------------+------------------+---------------------------------------+\n",
            "|summary|iso_code|    continent|   location|       total_cases|         new_cases|new_cases_smoothed|     total_deaths|        new_deaths|new_deaths_smoothed|total_cases_per_million|new_cases_per_million|new_cases_smoothed_per_million|total_deaths_per_million|new_deaths_per_million|new_deaths_smoothed_per_million| reproduction_rate|      icu_patients|icu_patients_per_million|     hosp_patients|hosp_patients_per_million|weekly_icu_admissions|weekly_icu_admissions_per_million|weekly_hosp_admissions|weekly_hosp_admissions_per_million|        total_tests|         new_tests|total_tests_per_thousand|new_tests_per_thousand|new_tests_smoothed|new_tests_smoothed_per_thousand|      positive_rate|    tests_per_case|  tests_units| total_vaccinations|  people_vaccinated|people_fully_vaccinated|      total_boosters| new_vaccinations|new_vaccinations_smoothed|total_vaccinations_per_hundred|people_vaccinated_per_hundred|people_fully_vaccinated_per_hundred|total_boosters_per_hundred|new_vaccinations_smoothed_per_million|new_people_vaccinated_smoothed|new_people_vaccinated_smoothed_per_hundred|  stringency_index|population_density|        median_age|    aged_65_older|    aged_70_older|   gdp_per_capita|   extreme_poverty|cardiovasc_death_rate|diabetes_prevalence|    female_smokers|     male_smokers|handwashing_facilities|hospital_beds_per_thousand|   life_expectancy|human_development_index|          population|excess_mortality_cumulative_absolute|excess_mortality_cumulative|  excess_mortality|excess_mortality_cumulative_per_million|\n",
            "+-------+--------+-------------+-----------+------------------+------------------+------------------+-----------------+------------------+-------------------+-----------------------+---------------------+------------------------------+------------------------+----------------------+-------------------------------+------------------+------------------+------------------------+------------------+-------------------------+---------------------+---------------------------------+----------------------+----------------------------------+-------------------+------------------+------------------------+----------------------+------------------+-------------------------------+-------------------+------------------+-------------+-------------------+-------------------+-----------------------+--------------------+-----------------+-------------------------+------------------------------+-----------------------------+-----------------------------------+--------------------------+-------------------------------------+------------------------------+------------------------------------------+------------------+------------------+------------------+-----------------+-----------------+-----------------+------------------+---------------------+-------------------+------------------+-----------------+----------------------+--------------------------+------------------+-----------------------+--------------------+------------------------------------+---------------------------+------------------+---------------------------------------+\n",
            "|  count|  424759|       398431|     424759|            406700|            405094|            403869|           406700|            405544|             404319|                 406700|               405094|                        403869|                  406700|                405544|                         404319|            184817|             39094|                   39094|             40634|                    40634|                10979|                            10979|                 24483|                             24483|              79387|             75403|                   79387|                 75403|            103965|                         103965|              95927|             94348|       106788|              85294|              81010|                  77940|               53479|            70864|                   194878|                         85294|                        81010|                              77940|                     53479|                               194878|                        192040|                                    192040|            196190|            357530|            331925|           320616|           328605|           325596|            210260|               326169|             343061|            245141|           241821|                160407|                    288301|            387099|                 316501|              424759|                               13411|                      13411|             13411|                                  13411|\n",
            "|   mean|    NULL|         NULL|       NULL| 7344549.582537496|8116.0502080998485| 8140.305241080758|81264.35137693632| 72.72574862407039|  72.94060546251582|     111316.43424396301|   123.83565750171596|            124.19177725945586|       833.5592759774003|    0.7744795139368348|             0.7767217469374172|0.9114953710968031| 661.3326597431831|       15.66490407735208|3913.5009351774374|       126.04955628291643|   318.26322980234994|                9.683414700792481|     4294.129600130703|                 82.66362496426072|2.110457393801252E7| 67285.41211888121|       924.2547520374865|     3.272460644801953| 142178.3636993219|              2.826364064829437|0.09807895587272192|2403.6328072667206|         NULL|5.577842191465402E8|2.470590904775583E8|   2.2708048320500386E8|1.4934754970317322E8|740980.5407682321|        284095.4409630641|            124.18119562923346|            53.47104579681707|                  48.64718411598494|         36.27460797696373|                   1852.8923377702972|            106146.36675692564|                       0.07473167048534893|42.877560324177246| 394.4121238778359|30.457364163589638|8.684420833641273|5.486916206389532|18906.39817231715|13.924397412724801|   264.63068390924735|  8.555967218660134|10.772796553822635|33.09906649961131|    50.648790327115506|         3.107005698905257|    73.70276453829|     0.7221857750845608|1.5261964983359975E8|                   56039.10415181576|          9.753464320334038|10.916338826336602|                     1771.2006114383753|\n",
            "| stddev|    NULL|         NULL|       NULL|4.46445028847368E7|231094.36491538718| 87152.41200062972|440756.8499430451|1376.8108640185264|  516.7773345476435|     161416.79431901843|   1512.7002443325762|             560.9520284602869|      1131.8827873556468|     7.046239768529075|             2.5684194923285912|0.3999249955670573|2140.1632170884272|       22.78903969123336| 9848.101601052234|       151.17315199181948|    514.6350458276708|               13.578409244862105|     10922.27967319309|                 88.40021972699725|8.409869431109455E7|247734.00456983913|      2195.4284900423604|     9.033825668420926|1138214.6555840792|              7.308224750925745|0.11609736423216013| 33443.66067673303|         NULL| 1.83416659495896E9|7.974593648129599E8|     7.37308146816309E8| 4.339663201771593E8|3185336.835236474|        1923080.328879907|             85.11344306149239|           29.390162467122284|                  29.05150374005134|        30.237412235531238|                    3118.621547441081|             786963.8451072945|                       0.17641610361404164|24.870492159098117| 1787.430320909119| 9.093970171302422|6.093347102763486|4.136480923935728|19832.46831155944|20.072826229076853|   120.75425015742508|  4.934505479645557|10.761031245331976|13.85567435238923|    31.903887009003622|        2.5491268546140393|7.3877986207163895|    0.14923538963364025| 6.990379106196828E8|                   156862.3255904776|         12.044599905930275|24.566014395580048|                     1989.1205426746114|\n",
            "|    min|     ABW|       Africa|Afghanistan|                 0|                 0|               0.0|                0|                 0|                0.0|                    0.0|                  0.0|                           0.0|                     0.0|                   0.0|                            0.0|             -0.07|                 0|                     0.0|                 0|                      0.0|                    0|                              0.0|                     0|                               0.0|                  0|                 1|                     0.0|                   0.0|               0.0|                            0.0|                0.0|               1.0|people tested|                  0|                  0|                      1|                   1|                0|                      0.0|                           0.0|                          0.0|                                0.0|                       0.0|                                  0.0|                           0.0|                                       0.0|               0.0|              0.14|              15.1|             1.14|             0.53|           661.24|               0.1|                79.37|               0.99|               0.1|              7.7|                  1.19|                       0.1|             53.28|                   0.39|                  47|                            -37726.1|                     -44.23|            -95.92|                               -2936.45|\n",
            "|    max|     ZWE|South America|   Zimbabwe|         775730930|          44236227|         6319461.0|          7054878|            103719|            14817.0|              752614.75|            242321.86|                      34623.04|                 6524.73|                893.24|                         127.62|              5.87|             28891|                  180.68|            154497|                  1526.85|                 4838|                           224.98|                153977|                            717.08|         9214000000|          35855632|                32925.83|                531.06|       1.4769984E7|                          147.6|                1.0|         1023631.9|units unclear|        13578755785|         5631263630|             5177942880|          2817362924|         49673198|              4.3691814E7|                        410.23|                       129.07|                             126.89|                    150.47|                             117113.0|                   2.1071266E7|                                     11.71|             100.0|          20546.77|              48.2|            27.05|            18.49|         116935.6|              77.6|               724.42|              30.53|              44.0|             78.1|                 100.0|                      13.8|             86.75|                   0.96|          7975105024|                           1349776.4|                      78.08|            378.22|                               10293.52|\n",
            "+-------+--------+-------------+-----------+------------------+------------------+------------------+-----------------+------------------+-------------------+-----------------------+---------------------+------------------------------+------------------------+----------------------+-------------------------------+------------------+------------------+------------------------+------------------+-------------------------+---------------------+---------------------------------+----------------------+----------------------------------+-------------------+------------------+------------------------+----------------------+------------------+-------------------------------+-------------------+------------------+-------------+-------------------+-------------------+-----------------------+--------------------+-----------------+-------------------------+------------------------------+-----------------------------+-----------------------------------+--------------------------+-------------------------------------+------------------------------+------------------------------------------+------------------+------------------+------------------+-----------------+-----------------+-----------------+------------------+---------------------+-------------------+------------------+-----------------+----------------------+--------------------------+------------------+-----------------------+--------------------+------------------------------------+---------------------------+------------------+---------------------------------------+\n",
            "\n"
          ]
        }
      ]
    },
    {
      "cell_type": "code",
      "source": [
        "#Simple Group by Function\n",
        "df.groupBy(\"location\").sum(\"new_cases\").orderBy(F.desc(\"sum(new_cases)\")).show(truncate=False)"
      ],
      "metadata": {
        "colab": {
          "base_uri": "https://localhost:8080/"
        },
        "id": "95TJWCWC6ykz",
        "outputId": "e33c76ef-797f-4896-898d-d92315b7bb1e"
      },
      "execution_count": 7,
      "outputs": [
        {
          "output_type": "stream",
          "name": "stdout",
          "text": [
            "+-----------------------------+--------------+\n",
            "|location                     |sum(new_cases)|\n",
            "+-----------------------------+--------------+\n",
            "|World                        |775800417     |\n",
            "|High-income countries        |428935387     |\n",
            "|Asia                         |301554088     |\n",
            "|Europe                       |252798408     |\n",
            "|Upper-middle-income countries|251736497     |\n",
            "|European Union (27)          |185732052     |\n",
            "|North America                |124485384     |\n",
            "|United States                |103436829     |\n",
            "|China                        |99369029      |\n",
            "|Lower-middle-income countries|92013076      |\n",
            "|South America                |68820742      |\n",
            "|India                        |45041192      |\n",
            "|France                       |38997490      |\n",
            "|Germany                      |38437756      |\n",
            "|Brazil                       |37511921      |\n",
            "|South Korea                  |34571873      |\n",
            "|Japan                        |33803572      |\n",
            "|Italy                        |26727644      |\n",
            "|United Kingdom               |24964791      |\n",
            "|Russia                       |24254803      |\n",
            "+-----------------------------+--------------+\n",
            "only showing top 20 rows\n",
            "\n"
          ]
        }
      ]
    }
  ]
}