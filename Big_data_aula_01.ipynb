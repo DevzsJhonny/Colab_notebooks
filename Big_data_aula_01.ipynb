{
  "nbformat": 4,
  "nbformat_minor": 0,
  "metadata": {
    "colab": {
      "provenance": [],
      "authorship_tag": "ABX9TyM19WHinkz8kaRzb0oDQ8gm",
      "include_colab_link": true
    },
    "kernelspec": {
      "name": "python3",
      "display_name": "Python 3"
    },
    "language_info": {
      "name": "python"
    }
  },
  "cells": [
    {
      "cell_type": "markdown",
      "metadata": {
        "id": "view-in-github",
        "colab_type": "text"
      },
      "source": [
        "<a href=\"https://colab.research.google.com/github/DevzsJhonny/Colab_notebooks/blob/main/Big_data_aula_01.ipynb\" target=\"_parent\"><img src=\"https://colab.research.google.com/assets/colab-badge.svg\" alt=\"Open In Colab\"/></a>"
      ]
    },
    {
      "cell_type": "markdown",
      "source": [
        "# Instalando framework **Pyspark**"
      ],
      "metadata": {
        "id": "tRVZC5fHvlUD"
      }
    },
    {
      "cell_type": "code",
      "execution_count": 27,
      "metadata": {
        "colab": {
          "base_uri": "https://localhost:8080/"
        },
        "id": "kw0kCVxEvZST",
        "outputId": "50a5a9e9-c7bc-4e3e-a37f-6027d45c21e6"
      },
      "outputs": [
        {
          "output_type": "stream",
          "name": "stdout",
          "text": [
            "Requirement already satisfied: pyspark in /usr/local/lib/python3.10/dist-packages (3.5.1)\n",
            "Requirement already satisfied: py4j==0.10.9.7 in /usr/local/lib/python3.10/dist-packages (from pyspark) (0.10.9.7)\n"
          ]
        }
      ],
      "source": [
        "!pip install pyspark"
      ]
    },
    {
      "cell_type": "code",
      "source": [
        "!pip install findspark"
      ],
      "metadata": {
        "colab": {
          "base_uri": "https://localhost:8080/"
        },
        "id": "rDgCx3trv0Qa",
        "outputId": "9931b075-e82b-4256-9423-a911ee904188"
      },
      "execution_count": 28,
      "outputs": [
        {
          "output_type": "stream",
          "name": "stdout",
          "text": [
            "Requirement already satisfied: findspark in /usr/local/lib/python3.10/dist-packages (2.0.1)\n"
          ]
        }
      ]
    },
    {
      "cell_type": "code",
      "source": [
        "import findspark #importação\n",
        "findspark.init() #inicialização\n",
        "from pyspark.sql import SparkSession #importação de sessão de uso do spark em nosso notebook\n",
        "spark = SparkSession.builder.master(\"local[*]\").getOrCreate()"
      ],
      "metadata": {
        "id": "8_aWR7Srv_Jv"
      },
      "execution_count": 29,
      "outputs": []
    },
    {
      "cell_type": "code",
      "source": [
        "df = spark.sql(\"\"\"select 'spark' as hello\"\"\")\n",
        "df.show()"
      ],
      "metadata": {
        "colab": {
          "base_uri": "https://localhost:8080/"
        },
        "id": "-YfEnD7uwQAT",
        "outputId": "6474a0bd-4195-47d0-c050-e2e7bf830097"
      },
      "execution_count": 30,
      "outputs": [
        {
          "output_type": "stream",
          "name": "stdout",
          "text": [
            "+-----+\n",
            "|hello|\n",
            "+-----+\n",
            "|spark|\n",
            "+-----+\n",
            "\n"
          ]
        }
      ]
    },
    {
      "cell_type": "code",
      "source": [
        "# Import spark libraries\n",
        "from pyspark.sql import Row, DataFrame\n",
        "from pyspark.sql.types import StringType, StructType, StructField, IntegerType\n",
        "from pyspark.sql.functions import col, expr, lit, substring, concat, concat_ws, when, coalesce\n",
        "from pyspark.sql import functions as F # for more sql functions\n",
        "from functools import reduce"
      ],
      "metadata": {
        "id": "Qw1Q_oCzweSN"
      },
      "execution_count": 31,
      "outputs": []
    },
    {
      "cell_type": "markdown",
      "source": [
        "# Manipulação de dados com Spark"
      ],
      "metadata": {
        "id": "UD9iD_Ztwu8c"
      }
    },
    {
      "cell_type": "code",
      "source": [
        "\n",
        "df = spark.read.csv('banklist.csv', sep = ',', inferSchema = True, header = True)\n",
        "\n",
        "print('df.count  :', df.count())\n",
        "print('df.col ct :', len(df.columns))\n",
        "print('df.columns:', df.columns)"
      ],
      "metadata": {
        "colab": {
          "base_uri": "https://localhost:8080/"
        },
        "id": "M7Rot8URw0BF",
        "outputId": "77460775-b6a6-4415-8650-3278810d9eb2"
      },
      "execution_count": 32,
      "outputs": [
        {
          "output_type": "stream",
          "name": "stdout",
          "text": [
            "df.count  : 561\n",
            "df.col ct : 6\n",
            "df.columns: ['Bank Name', 'City', 'ST', 'CERT', 'Acquiring Institution', 'Closing Date']\n"
          ]
        }
      ]
    },
    {
      "cell_type": "markdown",
      "source": [
        "# Utilizando o SQL"
      ],
      "metadata": {
        "id": "VjPP_g4Uxg5t"
      }
    },
    {
      "cell_type": "code",
      "source": [
        "\n",
        "df.createOrReplaceTempView(\"banklist\")\n",
        "\n",
        "df_check = spark.sql('''select `Bank Name`, City, `Closing Date` from banklist''')\n",
        "#df_check.show(4, truncate=False)\n",
        "df_check.show()"
      ],
      "metadata": {
        "colab": {
          "base_uri": "https://localhost:8080/"
        },
        "id": "3IJXLbRIxj4-",
        "outputId": "1a57d1e1-56c9-4b32-b3c5-4bec3d61e606"
      },
      "execution_count": 33,
      "outputs": [
        {
          "output_type": "stream",
          "name": "stdout",
          "text": [
            "+--------------------+------------------+------------+\n",
            "|           Bank Name|              City|Closing Date|\n",
            "+--------------------+------------------+------------+\n",
            "|The First State Bank|     Barboursville|    3-Apr-20|\n",
            "|  Ericson State Bank|           Ericson|   14-Feb-20|\n",
            "|City National Ban...|            Newark|    1-Nov-19|\n",
            "|       Resolute Bank|            Maumee|   25-Oct-19|\n",
            "|Louisa Community ...|            Louisa|   25-Oct-19|\n",
            "|The Enloe State Bank|            Cooper|   31-May-19|\n",
            "|Washington Federa...|           Chicago|   15-Dec-17|\n",
            "|The Farmers and M...|           Argonia|   13-Oct-17|\n",
            "| Fayette County Bank|        Saint Elmo|   26-May-17|\n",
            "|Guaranty Bank, (d...|         Milwaukee|    5-May-17|\n",
            "|      First NBC Bank|       New Orleans|   28-Apr-17|\n",
            "|       Proficio Bank|Cottonwood Heights|    3-Mar-17|\n",
            "|Seaway Bank and T...|           Chicago|   27-Jan-17|\n",
            "|Harvest Community...|        Pennsville|   13-Jan-17|\n",
            "|         Allied Bank|          Mulberry|   23-Sep-16|\n",
            "|The Woodbury Bank...|          Woodbury|   19-Aug-16|\n",
            "|First CornerStone...|   King of Prussia|    6-May-16|\n",
            "|  Trust Company Bank|           Memphis|   29-Apr-16|\n",
            "|North Milwaukee S...|         Milwaukee|   11-Mar-16|\n",
            "|Hometown National...|          Longview|    2-Oct-15|\n",
            "+--------------------+------------------+------------+\n",
            "only showing top 20 rows\n",
            "\n"
          ]
        }
      ]
    },
    {
      "cell_type": "markdown",
      "source": [
        "# Operações Básicas com DataFrame"
      ],
      "metadata": {
        "id": "fBwLslW5x9zV"
      }
    },
    {
      "cell_type": "code",
      "source": [
        "df.describe().show()"
      ],
      "metadata": {
        "colab": {
          "base_uri": "https://localhost:8080/"
        },
        "id": "iBBjKIPJyBlV",
        "outputId": "583a3ef0-8774-473b-a993-5859f4fb64f6"
      },
      "execution_count": 34,
      "outputs": [
        {
          "output_type": "stream",
          "name": "stdout",
          "text": [
            "+-------+--------------------+-------+----+-----------------+---------------------+------------+\n",
            "|summary|           Bank Name|   City|  ST|             CERT|Acquiring Institution|Closing Date|\n",
            "+-------+--------------------+-------+----+-----------------+---------------------+------------+\n",
            "|  count|                 561|    561| 561|              561|                  561|         561|\n",
            "|   mean|                NULL|   NULL|NULL|31685.68449197861|                 NULL|        NULL|\n",
            "| stddev|                NULL|   NULL|NULL|16446.65659309965|                 NULL|        NULL|\n",
            "|    min|1st American Stat...|Acworth|  AL|               91|      1st United Bank|    1-Aug-08|\n",
            "|    max|               ebank|Wyoming|  WY|            58701|  Your Community Bank|    9-Sep-11|\n",
            "+-------+--------------------+-------+----+-----------------+---------------------+------------+\n",
            "\n"
          ]
        }
      ]
    },
    {
      "cell_type": "code",
      "source": [
        "df.describe('City','ST').show()"
      ],
      "metadata": {
        "colab": {
          "base_uri": "https://localhost:8080/"
        },
        "id": "LONfNjm5yHl-",
        "outputId": "fd40fe74-66eb-4baa-c3dd-d915c3c826e2"
      },
      "execution_count": 35,
      "outputs": [
        {
          "output_type": "stream",
          "name": "stdout",
          "text": [
            "+-------+-------+----+\n",
            "|summary|   City|  ST|\n",
            "+-------+-------+----+\n",
            "|  count|    561| 561|\n",
            "|   mean|   NULL|NULL|\n",
            "| stddev|   NULL|NULL|\n",
            "|    min|Acworth|  AL|\n",
            "|    max|Wyoming|  WY|\n",
            "+-------+-------+----+\n",
            "\n"
          ]
        }
      ]
    },
    {
      "cell_type": "markdown",
      "source": [
        "# Count, columns e Schema"
      ],
      "metadata": {
        "id": "WkXBe_IqyN13"
      }
    },
    {
      "cell_type": "code",
      "source": [
        "\n",
        "print('Total de linhas:', df.count())\n",
        "print('Total de colunas:', len(df.columns))\n",
        "print('Tipo de dados:', df.dtypes)\n",
        "print('Schema:', df.schema)"
      ],
      "metadata": {
        "colab": {
          "base_uri": "https://localhost:8080/"
        },
        "id": "Ql6NEUksyQdv",
        "outputId": "41ee56bf-da3b-4059-8f11-96873e42cdfb"
      },
      "execution_count": 36,
      "outputs": [
        {
          "output_type": "stream",
          "name": "stdout",
          "text": [
            "Total de linhas: 561\n",
            "Total de colunas: 6\n",
            "Tipo de dados: [('Bank Name', 'string'), ('City', 'string'), ('ST', 'string'), ('CERT', 'int'), ('Acquiring Institution', 'string'), ('Closing Date', 'string')]\n",
            "Schema: StructType([StructField('Bank Name', StringType(), True), StructField('City', StringType(), True), StructField('ST', StringType(), True), StructField('CERT', IntegerType(), True), StructField('Acquiring Institution', StringType(), True), StructField('Closing Date', StringType(), True)])\n"
          ]
        }
      ]
    },
    {
      "cell_type": "markdown",
      "source": [
        "# Removendo duplicidades"
      ],
      "metadata": {
        "id": "GuxHKArEytuk"
      }
    },
    {
      "cell_type": "code",
      "source": [
        "\n",
        "df = df.dropDuplicates()\n",
        "print('df.count\t\t:', df.count())\n",
        "print('df.columns\t:', df.columns)\n",
        ""
      ],
      "metadata": {
        "colab": {
          "base_uri": "https://localhost:8080/"
        },
        "id": "0zNqTpFkyvks",
        "outputId": "180faae0-b2c9-4750-d9dc-90bc7c6bb565"
      },
      "execution_count": 37,
      "outputs": [
        {
          "output_type": "stream",
          "name": "stdout",
          "text": [
            "df.count\t\t: 561\n",
            "df.columns\t: ['Bank Name', 'City', 'ST', 'CERT', 'Acquiring Institution', 'Closing Date']\n"
          ]
        }
      ]
    },
    {
      "cell_type": "markdown",
      "source": [
        "# Select em colunas específicas"
      ],
      "metadata": {
        "id": "lHsxSn95y1ti"
      }
    },
    {
      "cell_type": "code",
      "source": [
        "df2 = df.select(*['Bank Name', 'City'])\n",
        "df2.show()\n",
        ""
      ],
      "metadata": {
        "colab": {
          "base_uri": "https://localhost:8080/"
        },
        "id": "mUBZtF7Oy36x",
        "outputId": "8462aeb3-1019-42e4-cd7e-1a44e637d796"
      },
      "execution_count": 38,
      "outputs": [
        {
          "output_type": "stream",
          "name": "stdout",
          "text": [
            "+--------------------+----------------+\n",
            "|           Bank Name|            City|\n",
            "+--------------------+----------------+\n",
            "| First Bank of Idaho|         Ketchum|\n",
            "|Amcore Bank, Nati...|        Rockford|\n",
            "|        Venture Bank|           Lacey|\n",
            "|First State Bank ...|           Altus|\n",
            "|Valley Capital Ba...|            Mesa|\n",
            "|Michigan Heritage...|Farmington Hills|\n",
            "|Columbia Savings ...|      Cincinnati|\n",
            "|       Fidelity Bank|        Dearborn|\n",
            "|The Park Avenue Bank|        Valdosta|\n",
            "|Western Commercia...|  Woodland Hills|\n",
            "|        Syringa Bank|           Boise|\n",
            "|Republic Federal ...|           Miami|\n",
            "|Westside Communit...|University Place|\n",
            "|   First United Bank|           Crete|\n",
            "|HarVest Bank of M...|    Gaithersburg|\n",
            "|            BankEast|       Knoxville|\n",
            "|    Polk County Bank|        Johnston|\n",
            "|Colorado Capital ...|     Castle Rock|\n",
            "|         Access Bank|        Champlin|\n",
            "|Pacific National ...|   San Francisco|\n",
            "+--------------------+----------------+\n",
            "only showing top 20 rows\n",
            "\n"
          ]
        }
      ]
    },
    {
      "cell_type": "markdown",
      "source": [
        "# Select em colunas múltiplas"
      ],
      "metadata": {
        "id": "4Y0Jt3oUy-qV"
      }
    },
    {
      "cell_type": "code",
      "source": [
        "col_l = list(set(df.columns)  - {'CERT','ST'})\n",
        "df2 = df.select(*col_l)\n",
        "df2.show()\n",
        ""
      ],
      "metadata": {
        "colab": {
          "base_uri": "https://localhost:8080/"
        },
        "id": "EB0_IcWBzA-C",
        "outputId": "b0293717-76b1-478c-faf5-4d24680b5ca8"
      },
      "execution_count": 39,
      "outputs": [
        {
          "output_type": "stream",
          "name": "stdout",
          "text": [
            "+--------------------+----------------+---------------------+------------+\n",
            "|           Bank Name|            City|Acquiring Institution|Closing Date|\n",
            "+--------------------+----------------+---------------------+------------+\n",
            "| First Bank of Idaho|         Ketchum|      U.S. Bank, N.A.|   24-Apr-09|\n",
            "|Amcore Bank, Nati...|        Rockford|          Harris N.A.|   23-Apr-10|\n",
            "|        Venture Bank|           Lacey| First-Citizens Ba...|   11-Sep-09|\n",
            "|First State Bank ...|           Altus|         Herring Bank|   31-Jul-09|\n",
            "|Valley Capital Ba...|            Mesa| Enterprise Bank &...|   11-Dec-09|\n",
            "|Michigan Heritage...|Farmington Hills|       Level One Bank|   24-Apr-09|\n",
            "|Columbia Savings ...|      Cincinnati| United Fidelity B...|   23-May-14|\n",
            "|       Fidelity Bank|        Dearborn| The Huntington Na...|   30-Mar-12|\n",
            "|The Park Avenue Bank|        Valdosta|   Bank of the Ozarks|   29-Apr-11|\n",
            "|Western Commercia...|  Woodland Hills| First California ...|    5-Nov-10|\n",
            "|        Syringa Bank|           Boise|         Sunwest Bank|   31-Jan-14|\n",
            "|Republic Federal ...|           Miami|      1st United Bank|   11-Dec-09|\n",
            "|Westside Communit...|University Place|         Sunwest Bank|   11-Jan-13|\n",
            "|   First United Bank|           Crete| Old Plank Trail C...|   28-Sep-12|\n",
            "|HarVest Bank of M...|    Gaithersburg|             Sonabank|   27-Apr-12|\n",
            "|            BankEast|       Knoxville|      U.S. Bank, N.A.|   27-Jan-12|\n",
            "|    Polk County Bank|        Johnston|  Grinnell State Bank|   18-Nov-11|\n",
            "|Colorado Capital ...|     Castle Rock| First-Citizens Ba...|    8-Jul-11|\n",
            "|         Access Bank|        Champlin|            PrinsBank|    7-May-10|\n",
            "|Pacific National ...|   San Francisco|       U.S. Bank N.A.|   30-Oct-09|\n",
            "+--------------------+----------------+---------------------+------------+\n",
            "only showing top 20 rows\n",
            "\n"
          ]
        }
      ]
    },
    {
      "cell_type": "markdown",
      "source": [
        "# Renomear colunas"
      ],
      "metadata": {
        "id": "tNaBDTtuzKj7"
      }
    },
    {
      "cell_type": "code",
      "source": [
        "\n",
        "df2 = df \\\n",
        "  .withColumnRenamed('Bank Name'            , 'bank_name') \\\n",
        "  .withColumnRenamed('Acquiring Institution', 'acq_institution') \\\n",
        "  .withColumnRenamed('Closing Date'         , 'closing_date') \\\n",
        "  .withColumnRenamed('ST'                   , 'state') \\\n",
        "  .withColumnRenamed('CERT'                 , 'cert') #\\\n",
        "\n",
        "df2.show()"
      ],
      "metadata": {
        "colab": {
          "base_uri": "https://localhost:8080/"
        },
        "id": "vxI6mW_kzMql",
        "outputId": "c64d8b1f-36fc-4557-b5f3-f14d77d8fd91"
      },
      "execution_count": 40,
      "outputs": [
        {
          "output_type": "stream",
          "name": "stdout",
          "text": [
            "+--------------------+----------------+-----+-----+--------------------+------------+\n",
            "|           bank_name|            City|state| cert|     acq_institution|closing_date|\n",
            "+--------------------+----------------+-----+-----+--------------------+------------+\n",
            "| First Bank of Idaho|         Ketchum|   ID|34396|     U.S. Bank, N.A.|   24-Apr-09|\n",
            "|Amcore Bank, Nati...|        Rockford|   IL| 3735|         Harris N.A.|   23-Apr-10|\n",
            "|        Venture Bank|           Lacey|   WA|22868|First-Citizens Ba...|   11-Sep-09|\n",
            "|First State Bank ...|           Altus|   OK| 9873|        Herring Bank|   31-Jul-09|\n",
            "|Valley Capital Ba...|            Mesa|   AZ|58399|Enterprise Bank &...|   11-Dec-09|\n",
            "|Michigan Heritage...|Farmington Hills|   MI|34369|      Level One Bank|   24-Apr-09|\n",
            "|Columbia Savings ...|      Cincinnati|   OH|32284|United Fidelity B...|   23-May-14|\n",
            "|       Fidelity Bank|        Dearborn|   MI|33883|The Huntington Na...|   30-Mar-12|\n",
            "|The Park Avenue Bank|        Valdosta|   GA|19797|  Bank of the Ozarks|   29-Apr-11|\n",
            "|Western Commercia...|  Woodland Hills|   CA|58087|First California ...|    5-Nov-10|\n",
            "|        Syringa Bank|           Boise|   ID|34296|        Sunwest Bank|   31-Jan-14|\n",
            "|Republic Federal ...|           Miami|   FL|22846|     1st United Bank|   11-Dec-09|\n",
            "|Westside Communit...|University Place|   WA|33997|        Sunwest Bank|   11-Jan-13|\n",
            "|   First United Bank|           Crete|   IL|20685|Old Plank Trail C...|   28-Sep-12|\n",
            "|HarVest Bank of M...|    Gaithersburg|   MD|57766|            Sonabank|   27-Apr-12|\n",
            "|            BankEast|       Knoxville|   TN|19869|     U.S. Bank, N.A.|   27-Jan-12|\n",
            "|    Polk County Bank|        Johnston|   IA|14194| Grinnell State Bank|   18-Nov-11|\n",
            "|Colorado Capital ...|     Castle Rock|   CO|34522|First-Citizens Ba...|    8-Jul-11|\n",
            "|         Access Bank|        Champlin|   MN|16476|           PrinsBank|    7-May-10|\n",
            "|Pacific National ...|   San Francisco|   CA|30006|      U.S. Bank N.A.|   30-Oct-09|\n",
            "+--------------------+----------------+-----+-----+--------------------+------------+\n",
            "only showing top 20 rows\n",
            "\n"
          ]
        }
      ]
    },
    {
      "cell_type": "markdown",
      "source": [
        "# Adicionando Colunas"
      ],
      "metadata": {
        "id": "vUX2uE6TzgzB"
      }
    },
    {
      "cell_type": "code",
      "source": [
        "df2 = df.withColumn('state', col('ST'))\n",
        "df2.show()"
      ],
      "metadata": {
        "colab": {
          "base_uri": "https://localhost:8080/"
        },
        "id": "Om3DuSDxzjls",
        "outputId": "2b8bad9d-76d2-4868-da0f-e8de2a1eeb43"
      },
      "execution_count": 41,
      "outputs": [
        {
          "output_type": "stream",
          "name": "stdout",
          "text": [
            "+--------------------+----------------+---+-----+---------------------+------------+-----+\n",
            "|           Bank Name|            City| ST| CERT|Acquiring Institution|Closing Date|state|\n",
            "+--------------------+----------------+---+-----+---------------------+------------+-----+\n",
            "| First Bank of Idaho|         Ketchum| ID|34396|      U.S. Bank, N.A.|   24-Apr-09|   ID|\n",
            "|Amcore Bank, Nati...|        Rockford| IL| 3735|          Harris N.A.|   23-Apr-10|   IL|\n",
            "|        Venture Bank|           Lacey| WA|22868| First-Citizens Ba...|   11-Sep-09|   WA|\n",
            "|First State Bank ...|           Altus| OK| 9873|         Herring Bank|   31-Jul-09|   OK|\n",
            "|Valley Capital Ba...|            Mesa| AZ|58399| Enterprise Bank &...|   11-Dec-09|   AZ|\n",
            "|Michigan Heritage...|Farmington Hills| MI|34369|       Level One Bank|   24-Apr-09|   MI|\n",
            "|Columbia Savings ...|      Cincinnati| OH|32284| United Fidelity B...|   23-May-14|   OH|\n",
            "|       Fidelity Bank|        Dearborn| MI|33883| The Huntington Na...|   30-Mar-12|   MI|\n",
            "|The Park Avenue Bank|        Valdosta| GA|19797|   Bank of the Ozarks|   29-Apr-11|   GA|\n",
            "|Western Commercia...|  Woodland Hills| CA|58087| First California ...|    5-Nov-10|   CA|\n",
            "|        Syringa Bank|           Boise| ID|34296|         Sunwest Bank|   31-Jan-14|   ID|\n",
            "|Republic Federal ...|           Miami| FL|22846|      1st United Bank|   11-Dec-09|   FL|\n",
            "|Westside Communit...|University Place| WA|33997|         Sunwest Bank|   11-Jan-13|   WA|\n",
            "|   First United Bank|           Crete| IL|20685| Old Plank Trail C...|   28-Sep-12|   IL|\n",
            "|HarVest Bank of M...|    Gaithersburg| MD|57766|             Sonabank|   27-Apr-12|   MD|\n",
            "|            BankEast|       Knoxville| TN|19869|      U.S. Bank, N.A.|   27-Jan-12|   TN|\n",
            "|    Polk County Bank|        Johnston| IA|14194|  Grinnell State Bank|   18-Nov-11|   IA|\n",
            "|Colorado Capital ...|     Castle Rock| CO|34522| First-Citizens Ba...|    8-Jul-11|   CO|\n",
            "|         Access Bank|        Champlin| MN|16476|            PrinsBank|    7-May-10|   MN|\n",
            "|Pacific National ...|   San Francisco| CA|30006|       U.S. Bank N.A.|   30-Oct-09|   CA|\n",
            "+--------------------+----------------+---+-----+---------------------+------------+-----+\n",
            "only showing top 20 rows\n",
            "\n"
          ]
        }
      ]
    },
    {
      "cell_type": "markdown",
      "source": [
        "#Adicionando coluna constante (valor fixo)"
      ],
      "metadata": {
        "id": "AWm2Gjlnzyt2"
      }
    },
    {
      "cell_type": "code",
      "source": [
        "df2 = df.withColumn('country', lit('US'))\n",
        "df2.show()"
      ],
      "metadata": {
        "colab": {
          "base_uri": "https://localhost:8080/"
        },
        "id": "RktcnloQz2B-",
        "outputId": "b4421e6e-91eb-41e1-d5d2-715167a17de4"
      },
      "execution_count": 42,
      "outputs": [
        {
          "output_type": "stream",
          "name": "stdout",
          "text": [
            "+--------------------+----------------+---+-----+---------------------+------------+-------+\n",
            "|           Bank Name|            City| ST| CERT|Acquiring Institution|Closing Date|country|\n",
            "+--------------------+----------------+---+-----+---------------------+------------+-------+\n",
            "| First Bank of Idaho|         Ketchum| ID|34396|      U.S. Bank, N.A.|   24-Apr-09|     US|\n",
            "|Amcore Bank, Nati...|        Rockford| IL| 3735|          Harris N.A.|   23-Apr-10|     US|\n",
            "|        Venture Bank|           Lacey| WA|22868| First-Citizens Ba...|   11-Sep-09|     US|\n",
            "|First State Bank ...|           Altus| OK| 9873|         Herring Bank|   31-Jul-09|     US|\n",
            "|Valley Capital Ba...|            Mesa| AZ|58399| Enterprise Bank &...|   11-Dec-09|     US|\n",
            "|Michigan Heritage...|Farmington Hills| MI|34369|       Level One Bank|   24-Apr-09|     US|\n",
            "|Columbia Savings ...|      Cincinnati| OH|32284| United Fidelity B...|   23-May-14|     US|\n",
            "|       Fidelity Bank|        Dearborn| MI|33883| The Huntington Na...|   30-Mar-12|     US|\n",
            "|The Park Avenue Bank|        Valdosta| GA|19797|   Bank of the Ozarks|   29-Apr-11|     US|\n",
            "|Western Commercia...|  Woodland Hills| CA|58087| First California ...|    5-Nov-10|     US|\n",
            "|        Syringa Bank|           Boise| ID|34296|         Sunwest Bank|   31-Jan-14|     US|\n",
            "|Republic Federal ...|           Miami| FL|22846|      1st United Bank|   11-Dec-09|     US|\n",
            "|Westside Communit...|University Place| WA|33997|         Sunwest Bank|   11-Jan-13|     US|\n",
            "|   First United Bank|           Crete| IL|20685| Old Plank Trail C...|   28-Sep-12|     US|\n",
            "|HarVest Bank of M...|    Gaithersburg| MD|57766|             Sonabank|   27-Apr-12|     US|\n",
            "|            BankEast|       Knoxville| TN|19869|      U.S. Bank, N.A.|   27-Jan-12|     US|\n",
            "|    Polk County Bank|        Johnston| IA|14194|  Grinnell State Bank|   18-Nov-11|     US|\n",
            "|Colorado Capital ...|     Castle Rock| CO|34522| First-Citizens Ba...|    8-Jul-11|     US|\n",
            "|         Access Bank|        Champlin| MN|16476|            PrinsBank|    7-May-10|     US|\n",
            "|Pacific National ...|   San Francisco| CA|30006|       U.S. Bank N.A.|   30-Oct-09|     US|\n",
            "+--------------------+----------------+---+-----+---------------------+------------+-------+\n",
            "only showing top 20 rows\n",
            "\n"
          ]
        }
      ]
    },
    {
      "cell_type": "markdown",
      "source": [
        "#Drop colunas"
      ],
      "metadata": {
        "id": "e5q7AN0gz_F3"
      }
    },
    {
      "cell_type": "code",
      "source": [
        "df2 = df.drop('CERT')\n",
        "df2.show(2)"
      ],
      "metadata": {
        "colab": {
          "base_uri": "https://localhost:8080/"
        },
        "id": "-yvcLa0t0BXv",
        "outputId": "c37f5bc8-f9d3-420b-f608-2fd40c939f29"
      },
      "execution_count": 43,
      "outputs": [
        {
          "output_type": "stream",
          "name": "stdout",
          "text": [
            "+--------------------+--------+---+---------------------+------------+\n",
            "|           Bank Name|    City| ST|Acquiring Institution|Closing Date|\n",
            "+--------------------+--------+---+---------------------+------------+\n",
            "| First Bank of Idaho| Ketchum| ID|      U.S. Bank, N.A.|   24-Apr-09|\n",
            "|Amcore Bank, Nati...|Rockford| IL|          Harris N.A.|   23-Apr-10|\n",
            "+--------------------+--------+---+---------------------+------------+\n",
            "only showing top 2 rows\n",
            "\n"
          ]
        }
      ]
    },
    {
      "cell_type": "markdown",
      "source": [
        "# Dropando mais de uma coluna"
      ],
      "metadata": {
        "id": "ysNXLK8g0GGe"
      }
    },
    {
      "cell_type": "code",
      "source": [
        "df2 = df.drop(*['CERT','ST'])\n",
        "df2.show(2)\n",
        "# or df2 = reduce(DataFrame.drop, ['CERT','ST'], df)\n"
      ],
      "metadata": {
        "colab": {
          "base_uri": "https://localhost:8080/"
        },
        "id": "y7e2e8_V0IRm",
        "outputId": "a56e62c4-4c79-45ac-b6c5-8d099298d68a"
      },
      "execution_count": 44,
      "outputs": [
        {
          "output_type": "stream",
          "name": "stdout",
          "text": [
            "+--------------------+--------+---------------------+------------+\n",
            "|           Bank Name|    City|Acquiring Institution|Closing Date|\n",
            "+--------------------+--------+---------------------+------------+\n",
            "| First Bank of Idaho| Ketchum|      U.S. Bank, N.A.|   24-Apr-09|\n",
            "|Amcore Bank, Nati...|Rockford|          Harris N.A.|   23-Apr-10|\n",
            "+--------------------+--------+---------------------+------------+\n",
            "only showing top 2 rows\n",
            "\n"
          ]
        }
      ]
    },
    {
      "cell_type": "markdown",
      "source": [
        "#Filtrando data"
      ],
      "metadata": {
        "id": "pnntrc9b0ktQ"
      }
    },
    {
      "cell_type": "code",
      "source": [
        "# Equal to values\n",
        "df2 = df.where(df['ST'] == 'NE')\n",
        "\n",
        "# Between values\n",
        "df3 = df.where(df['CERT'].between('1000','2000'))\n",
        "\n",
        "# Is inside multiple values\n",
        "df4 = df.where(df['ST'].isin('NE','IL'))\n",
        "\n",
        "print('df.count  :', df.count())\n",
        "print('df2.count :', df2.count())\n",
        "print('df3.count :', df3.count())\n",
        "print('df4.count :', df4.count())"
      ],
      "metadata": {
        "colab": {
          "base_uri": "https://localhost:8080/"
        },
        "id": "Ir2Ws-tj0md1",
        "outputId": "35343b8d-37a8-4df2-fd63-018fda5c8a21"
      },
      "execution_count": 45,
      "outputs": [
        {
          "output_type": "stream",
          "name": "stdout",
          "text": [
            "df.count  : 561\n",
            "df2.count : 4\n",
            "df3.count : 9\n",
            "df4.count : 73\n"
          ]
        }
      ]
    },
    {
      "cell_type": "markdown",
      "source": [
        "# Operadores Lógicos"
      ],
      "metadata": {
        "id": "U9ZeKsCh1Dg9"
      }
    },
    {
      "cell_type": "code",
      "source": [
        "df2 = df.where((df['ST'] == 'NE') & (df['City'] == 'Ericson'))\n",
        "df2.show(3)"
      ],
      "metadata": {
        "colab": {
          "base_uri": "https://localhost:8080/"
        },
        "id": "dwdYhUKd1GwO",
        "outputId": "0ba07867-4092-4cce-f11a-6c0b0b9dbc87"
      },
      "execution_count": 46,
      "outputs": [
        {
          "output_type": "stream",
          "name": "stdout",
          "text": [
            "+------------------+-------+---+-----+---------------------+------------+\n",
            "|         Bank Name|   City| ST| CERT|Acquiring Institution|Closing Date|\n",
            "+------------------+-------+---+-----+---------------------+------------+\n",
            "|Ericson State Bank|Ericson| NE|18265| Farmers and Merch...|   14-Feb-20|\n",
            "+------------------+-------+---+-----+---------------------+------------+\n",
            "\n"
          ]
        }
      ]
    },
    {
      "cell_type": "markdown",
      "source": [
        "# replace"
      ],
      "metadata": {
        "id": "n7oX2X381W06"
      }
    },
    {
      "cell_type": "code",
      "source": [
        "# Pre replace\n",
        "print('Pre replace')\n",
        "df.show(2)\n",
        "\n",
        "# Post replace\n",
        "print('Pos replace')\n",
        "\n",
        "print('Replace 7 in the above dataframe with 17 at all instances')\n",
        "df.na.replace(7,17).show()"
      ],
      "metadata": {
        "colab": {
          "base_uri": "https://localhost:8080/"
        },
        "id": "f0Qf5zTb1ZwJ",
        "outputId": "82c86a08-4b0b-4460-a8e0-2e996a454378"
      },
      "execution_count": 48,
      "outputs": [
        {
          "output_type": "stream",
          "name": "stdout",
          "text": [
            "Pre replace\n",
            "+--------------------+--------+---+-----+---------------------+------------+\n",
            "|           Bank Name|    City| ST| CERT|Acquiring Institution|Closing Date|\n",
            "+--------------------+--------+---+-----+---------------------+------------+\n",
            "| First Bank of Idaho| Ketchum| ID|34396|      U.S. Bank, N.A.|   24-Apr-09|\n",
            "|Amcore Bank, Nati...|Rockford| IL| 3735|          Harris N.A.|   23-Apr-10|\n",
            "+--------------------+--------+---+-----+---------------------+------------+\n",
            "only showing top 2 rows\n",
            "\n",
            "Pos replace\n",
            "Replace 7 in the above dataframe with 17 at all instances\n",
            "+--------------------+----------------+---+-----+---------------------+------------+\n",
            "|           Bank Name|            City| ST| CERT|Acquiring Institution|Closing Date|\n",
            "+--------------------+----------------+---+-----+---------------------+------------+\n",
            "| First Bank of Idaho|         Ketchum| ID|34396|      U.S. Bank, N.A.|   24-Apr-09|\n",
            "|Amcore Bank, Nati...|        Rockford| IL| 3735|          Harris N.A.|   23-Apr-10|\n",
            "|        Venture Bank|           Lacey| WA|22868| First-Citizens Ba...|   11-Sep-09|\n",
            "|First State Bank ...|           Altus| OK| 9873|         Herring Bank|   31-Jul-09|\n",
            "|Valley Capital Ba...|            Mesa| AZ|58399| Enterprise Bank &...|   11-Dec-09|\n",
            "|Michigan Heritage...|Farmington Hills| MI|34369|       Level One Bank|   24-Apr-09|\n",
            "|Columbia Savings ...|      Cincinnati| OH|32284| United Fidelity B...|   23-May-14|\n",
            "|       Fidelity Bank|        Dearborn| MI|33883| The Huntington Na...|   30-Mar-12|\n",
            "|The Park Avenue Bank|        Valdosta| GA|19797|   Bank of the Ozarks|   29-Apr-11|\n",
            "|Western Commercia...|  Woodland Hills| CA|58087| First California ...|    5-Nov-10|\n",
            "|        Syringa Bank|           Boise| ID|34296|         Sunwest Bank|   31-Jan-14|\n",
            "|Republic Federal ...|           Miami| FL|22846|      1st United Bank|   11-Dec-09|\n",
            "|Westside Communit...|University Place| WA|33997|         Sunwest Bank|   11-Jan-13|\n",
            "|   First United Bank|           Crete| IL|20685| Old Plank Trail C...|   28-Sep-12|\n",
            "|HarVest Bank of M...|    Gaithersburg| MD|57766|             Sonabank|   27-Apr-12|\n",
            "|            BankEast|       Knoxville| TN|19869|      U.S. Bank, N.A.|   27-Jan-12|\n",
            "|    Polk County Bank|        Johnston| IA|14194|  Grinnell State Bank|   18-Nov-11|\n",
            "|Colorado Capital ...|     Castle Rock| CO|34522| First-Citizens Ba...|    8-Jul-11|\n",
            "|         Access Bank|        Champlin| MN|16476|            PrinsBank|    7-May-10|\n",
            "|Pacific National ...|   San Francisco| CA|30006|       U.S. Bank N.A.|   30-Oct-09|\n",
            "+--------------------+----------------+---+-----+---------------------+------------+\n",
            "only showing top 20 rows\n",
            "\n"
          ]
        }
      ]
    }
  ]
}